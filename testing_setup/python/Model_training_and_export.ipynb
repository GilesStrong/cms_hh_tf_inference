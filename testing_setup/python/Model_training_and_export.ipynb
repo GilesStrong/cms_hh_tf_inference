{
 "cells": [
  {
   "cell_type": "markdown",
   "metadata": {},
   "source": [
    "# Export & Inference testing\n",
    "Generate example classifier ensemble and export. Data is from HiggsML challenge."
   ]
  },
  {
   "cell_type": "code",
   "execution_count": null,
   "metadata": {},
   "outputs": [],
   "source": [
    "!mkdir data\n",
    "!wget -O data/atlas-higgs-challenge-2014-v2.csv.gz http://opendata.cern.ch/record/328/files/atlas-higgs-challenge-2014-v2.csv.gz\n",
    "!gunzip data/atlas-higgs-challenge-2014-v2.csv.gz"
   ]
  },
  {
   "cell_type": "markdown",
   "metadata": {},
   "source": [
    "### Basic Modules"
   ]
  },
  {
   "cell_type": "code",
   "execution_count": 1,
   "metadata": {},
   "outputs": [
    {
     "name": "stderr",
     "output_type": "stream",
     "text": [
      "/home/giles/anaconda3/lib/python3.6/site-packages/h5py/__init__.py:36: FutureWarning: Conversion of the second argument of issubdtype from `float` to `np.floating` is deprecated. In future, it will be treated as `np.float64 == np.dtype(float).type`.\n",
      "  from ._conv import register_converters as _register_converters\n"
     ]
    }
   ],
   "source": [
    "%matplotlib inline\n",
    "%reload_ext autoreload\n",
    "%autoreload 2\n",
    "import pandas as pd\n",
    "import numpy as np\n",
    "import os\n",
    "import h5py\n",
    "import pickle\n",
    "from pathlib import Path\n",
    "from functools import partial\n",
    "from typing import Union\n",
    "\n",
    "from sklearn.preprocessing import StandardScaler\n",
    "from sklearn.model_selection import train_test_split\n",
    "\n",
    "from lumin.data_processing.pre_proc import fit_input_pipe\n",
    "from lumin.data_processing.pre_proc import proc_cats\n",
    "from lumin.data_processing.file_proc import df2foldfile\n",
    "from lumin.nn.data.fold_yielder import FoldYielder\n",
    "from lumin.nn.models.model_builder import ModelBuilder\n",
    "from lumin.nn.models.model import Model\n",
    "from lumin.nn.models.helpers import CatEmbedder\n",
    "from lumin.optimisation.hyper_param import fold_lr_find\n",
    "from lumin.nn.callbacks.cyclic_callbacks import OneCycle\n",
    "from lumin.nn.metrics.class_eval import AMS\n",
    "from lumin.data_processing.hep_proc import proc_event\n",
    "from lumin.utils.misc import ids2unique\n",
    "from lumin.nn.training.fold_train import fold_train_ensemble\n",
    "from lumin.nn.ensemble.ensemble import Ensemble"
   ]
  },
  {
   "cell_type": "code",
   "execution_count": 2,
   "metadata": {},
   "outputs": [],
   "source": [
    "PATH = Path('data/')"
   ]
  },
  {
   "cell_type": "markdown",
   "metadata": {},
   "source": [
    "## Data preparation"
   ]
  },
  {
   "cell_type": "markdown",
   "metadata": {},
   "source": [
    "### Data import from CSV file \n",
    "Read file into a pandas dataframe."
   ]
  },
  {
   "cell_type": "code",
   "execution_count": 3,
   "metadata": {},
   "outputs": [],
   "source": [
    "data = pd.read_csv(PATH/'atlas-higgs-challenge-2014-v2.csv')"
   ]
  },
  {
   "cell_type": "code",
   "execution_count": 4,
   "metadata": {},
   "outputs": [
    {
     "data": {
      "text/html": [
       "<div>\n",
       "<style scoped>\n",
       "    .dataframe tbody tr th:only-of-type {\n",
       "        vertical-align: middle;\n",
       "    }\n",
       "\n",
       "    .dataframe tbody tr th {\n",
       "        vertical-align: top;\n",
       "    }\n",
       "\n",
       "    .dataframe thead th {\n",
       "        text-align: right;\n",
       "    }\n",
       "</style>\n",
       "<table border=\"1\" class=\"dataframe\">\n",
       "  <thead>\n",
       "    <tr style=\"text-align: right;\">\n",
       "      <th></th>\n",
       "      <th>EventId</th>\n",
       "      <th>DER_mass_MMC</th>\n",
       "      <th>DER_mass_transverse_met_lep</th>\n",
       "      <th>DER_mass_vis</th>\n",
       "      <th>DER_pt_h</th>\n",
       "      <th>DER_deltaeta_jet_jet</th>\n",
       "      <th>DER_mass_jet_jet</th>\n",
       "      <th>DER_prodeta_jet_jet</th>\n",
       "      <th>DER_deltar_tau_lep</th>\n",
       "      <th>DER_pt_tot</th>\n",
       "      <th>...</th>\n",
       "      <th>PRI_jet_leading_eta</th>\n",
       "      <th>PRI_jet_leading_phi</th>\n",
       "      <th>PRI_jet_subleading_pt</th>\n",
       "      <th>PRI_jet_subleading_eta</th>\n",
       "      <th>PRI_jet_subleading_phi</th>\n",
       "      <th>PRI_jet_all_pt</th>\n",
       "      <th>Weight</th>\n",
       "      <th>Label</th>\n",
       "      <th>KaggleSet</th>\n",
       "      <th>KaggleWeight</th>\n",
       "    </tr>\n",
       "  </thead>\n",
       "  <tbody>\n",
       "    <tr>\n",
       "      <td>0</td>\n",
       "      <td>100000</td>\n",
       "      <td>138.470</td>\n",
       "      <td>51.655</td>\n",
       "      <td>97.827</td>\n",
       "      <td>27.980</td>\n",
       "      <td>0.91</td>\n",
       "      <td>124.711</td>\n",
       "      <td>2.666</td>\n",
       "      <td>3.064</td>\n",
       "      <td>41.928</td>\n",
       "      <td>...</td>\n",
       "      <td>2.150</td>\n",
       "      <td>0.444</td>\n",
       "      <td>46.062</td>\n",
       "      <td>1.24</td>\n",
       "      <td>-2.475</td>\n",
       "      <td>113.497</td>\n",
       "      <td>0.000814</td>\n",
       "      <td>s</td>\n",
       "      <td>t</td>\n",
       "      <td>0.002653</td>\n",
       "    </tr>\n",
       "    <tr>\n",
       "      <td>1</td>\n",
       "      <td>100001</td>\n",
       "      <td>160.937</td>\n",
       "      <td>68.768</td>\n",
       "      <td>103.235</td>\n",
       "      <td>48.146</td>\n",
       "      <td>-999.00</td>\n",
       "      <td>-999.000</td>\n",
       "      <td>-999.000</td>\n",
       "      <td>3.473</td>\n",
       "      <td>2.078</td>\n",
       "      <td>...</td>\n",
       "      <td>0.725</td>\n",
       "      <td>1.158</td>\n",
       "      <td>-999.000</td>\n",
       "      <td>-999.00</td>\n",
       "      <td>-999.000</td>\n",
       "      <td>46.226</td>\n",
       "      <td>0.681042</td>\n",
       "      <td>b</td>\n",
       "      <td>t</td>\n",
       "      <td>2.233584</td>\n",
       "    </tr>\n",
       "    <tr>\n",
       "      <td>2</td>\n",
       "      <td>100002</td>\n",
       "      <td>-999.000</td>\n",
       "      <td>162.172</td>\n",
       "      <td>125.953</td>\n",
       "      <td>35.635</td>\n",
       "      <td>-999.00</td>\n",
       "      <td>-999.000</td>\n",
       "      <td>-999.000</td>\n",
       "      <td>3.148</td>\n",
       "      <td>9.336</td>\n",
       "      <td>...</td>\n",
       "      <td>2.053</td>\n",
       "      <td>-2.028</td>\n",
       "      <td>-999.000</td>\n",
       "      <td>-999.00</td>\n",
       "      <td>-999.000</td>\n",
       "      <td>44.251</td>\n",
       "      <td>0.715742</td>\n",
       "      <td>b</td>\n",
       "      <td>t</td>\n",
       "      <td>2.347389</td>\n",
       "    </tr>\n",
       "    <tr>\n",
       "      <td>3</td>\n",
       "      <td>100003</td>\n",
       "      <td>143.905</td>\n",
       "      <td>81.417</td>\n",
       "      <td>80.943</td>\n",
       "      <td>0.414</td>\n",
       "      <td>-999.00</td>\n",
       "      <td>-999.000</td>\n",
       "      <td>-999.000</td>\n",
       "      <td>3.310</td>\n",
       "      <td>0.414</td>\n",
       "      <td>...</td>\n",
       "      <td>-999.000</td>\n",
       "      <td>-999.000</td>\n",
       "      <td>-999.000</td>\n",
       "      <td>-999.00</td>\n",
       "      <td>-999.000</td>\n",
       "      <td>-0.000</td>\n",
       "      <td>1.660654</td>\n",
       "      <td>b</td>\n",
       "      <td>t</td>\n",
       "      <td>5.446378</td>\n",
       "    </tr>\n",
       "    <tr>\n",
       "      <td>4</td>\n",
       "      <td>100004</td>\n",
       "      <td>175.864</td>\n",
       "      <td>16.915</td>\n",
       "      <td>134.805</td>\n",
       "      <td>16.405</td>\n",
       "      <td>-999.00</td>\n",
       "      <td>-999.000</td>\n",
       "      <td>-999.000</td>\n",
       "      <td>3.891</td>\n",
       "      <td>16.405</td>\n",
       "      <td>...</td>\n",
       "      <td>-999.000</td>\n",
       "      <td>-999.000</td>\n",
       "      <td>-999.000</td>\n",
       "      <td>-999.00</td>\n",
       "      <td>-999.000</td>\n",
       "      <td>0.000</td>\n",
       "      <td>1.904263</td>\n",
       "      <td>b</td>\n",
       "      <td>t</td>\n",
       "      <td>6.245333</td>\n",
       "    </tr>\n",
       "  </tbody>\n",
       "</table>\n",
       "<p>5 rows × 35 columns</p>\n",
       "</div>"
      ],
      "text/plain": [
       "   EventId  DER_mass_MMC  DER_mass_transverse_met_lep  DER_mass_vis  DER_pt_h  \\\n",
       "0   100000       138.470                       51.655        97.827    27.980   \n",
       "1   100001       160.937                       68.768       103.235    48.146   \n",
       "2   100002      -999.000                      162.172       125.953    35.635   \n",
       "3   100003       143.905                       81.417        80.943     0.414   \n",
       "4   100004       175.864                       16.915       134.805    16.405   \n",
       "\n",
       "   DER_deltaeta_jet_jet  DER_mass_jet_jet  DER_prodeta_jet_jet  \\\n",
       "0                  0.91           124.711                2.666   \n",
       "1               -999.00          -999.000             -999.000   \n",
       "2               -999.00          -999.000             -999.000   \n",
       "3               -999.00          -999.000             -999.000   \n",
       "4               -999.00          -999.000             -999.000   \n",
       "\n",
       "   DER_deltar_tau_lep  DER_pt_tot  ...  PRI_jet_leading_eta  \\\n",
       "0               3.064      41.928  ...                2.150   \n",
       "1               3.473       2.078  ...                0.725   \n",
       "2               3.148       9.336  ...                2.053   \n",
       "3               3.310       0.414  ...             -999.000   \n",
       "4               3.891      16.405  ...             -999.000   \n",
       "\n",
       "   PRI_jet_leading_phi  PRI_jet_subleading_pt  PRI_jet_subleading_eta  \\\n",
       "0                0.444                 46.062                    1.24   \n",
       "1                1.158               -999.000                 -999.00   \n",
       "2               -2.028               -999.000                 -999.00   \n",
       "3             -999.000               -999.000                 -999.00   \n",
       "4             -999.000               -999.000                 -999.00   \n",
       "\n",
       "   PRI_jet_subleading_phi  PRI_jet_all_pt    Weight  Label  KaggleSet  \\\n",
       "0                  -2.475         113.497  0.000814      s          t   \n",
       "1                -999.000          46.226  0.681042      b          t   \n",
       "2                -999.000          44.251  0.715742      b          t   \n",
       "3                -999.000          -0.000  1.660654      b          t   \n",
       "4                -999.000           0.000  1.904263      b          t   \n",
       "\n",
       "   KaggleWeight  \n",
       "0      0.002653  \n",
       "1      2.233584  \n",
       "2      2.347389  \n",
       "3      5.446378  \n",
       "4      6.245333  \n",
       "\n",
       "[5 rows x 35 columns]"
      ]
     },
     "execution_count": 4,
     "metadata": {},
     "output_type": "execute_result"
    }
   ],
   "source": [
    "data.head()"
   ]
  },
  {
   "cell_type": "code",
   "execution_count": 5,
   "metadata": {},
   "outputs": [],
   "source": [
    "data.drop(columns=['Weight'], inplace=True)\n",
    "data['Label'] = data['Label'].map({'s':1, 'b':0})\n",
    "data.rename(index=str, columns={\"KaggleWeight\": \"gen_weight\", 'PRI_met': 'PRI_met_pt', 'Label':'gen_target'}, inplace=True)\n",
    "\n",
    "df = pd.DataFrame(data.loc[data.KaggleSet == 't'])\n",
    "df.drop(columns=['KaggleSet'], inplace=True)"
   ]
  },
  {
   "cell_type": "markdown",
   "metadata": {},
   "source": [
    "### Preprocessing\n",
    "Apply pre-processing of the 3-momenta."
   ]
  },
  {
   "cell_type": "code",
   "execution_count": 6,
   "metadata": {},
   "outputs": [
    {
     "name": "stdout",
     "output_type": "stream",
     "text": [
      "['EventId', 'DER_mass_MMC', 'DER_mass_transverse_met_lep', 'DER_mass_vis', 'DER_pt_h', 'DER_deltaeta_jet_jet', 'DER_mass_jet_jet', 'DER_prodeta_jet_jet', 'DER_deltar_tau_lep', 'DER_pt_tot', 'DER_sum_pt', 'DER_pt_ratio_lep_tau', 'DER_met_phi_centrality', 'DER_lep_eta_centrality', 'PRI_tau_pt', 'PRI_tau_eta', 'PRI_tau_phi', 'PRI_lep_pt', 'PRI_lep_eta', 'PRI_lep_phi', 'PRI_met_pt', 'PRI_met_phi', 'PRI_met_sumet', 'PRI_jet_num', 'PRI_jet_leading_pt', 'PRI_jet_leading_eta', 'PRI_jet_leading_phi', 'PRI_jet_subleading_pt', 'PRI_jet_subleading_eta', 'PRI_jet_subleading_phi', 'PRI_jet_all_pt', 'gen_target', 'gen_weight']\n"
     ]
    }
   ],
   "source": [
    "print([f for f in df.columns])"
   ]
  },
  {
   "cell_type": "code",
   "execution_count": 8,
   "metadata": {},
   "outputs": [
    {
     "name": "stdout",
     "output_type": "stream",
     "text": [
      "Setting PRI_lep to phi = 0\n",
      "Setting PRI_tau to positve phi\n",
      "Setting PRI_lep to positive eta\n",
      "eta component of PRI_met not found\n",
      "Converting to use_cartesian coordinates\n"
     ]
    }
   ],
   "source": [
    "proc_event(df, use_cartesian=True, default_vals=[-999.0], keep_feats=['PRI_met_pt'],\n",
    "           ref_vec_0='PRI_lep', ref_vec_1='PRI_tau', fix_phi=True, fix_y=True, fix_z=True)"
   ]
  },
  {
   "cell_type": "markdown",
   "metadata": {},
   "source": [
    "For quick access, we'll define here all the sets of features we'll later want use."
   ]
  },
  {
   "cell_type": "code",
   "execution_count": 9,
   "metadata": {},
   "outputs": [
    {
     "name": "stdout",
     "output_type": "stream",
     "text": [
      "1 ['PRI_jet_num']\n",
      "29 ['DER_mass_MMC', 'DER_mass_transverse_met_lep', 'DER_mass_vis', 'DER_pt_h', 'DER_deltaeta_jet_jet', 'DER_mass_jet_jet', 'DER_prodeta_jet_jet', 'DER_deltar_tau_lep', 'DER_pt_tot', 'DER_sum_pt', 'DER_pt_ratio_lep_tau', 'DER_met_phi_centrality', 'DER_lep_eta_centrality', 'PRI_met_sumet', 'PRI_jet_all_pt', 'PRI_jet_subleading_px', 'PRI_jet_subleading_py', 'PRI_jet_subleading_pz', 'PRI_lep_px', 'PRI_lep_pz', 'PRI_tau_px', 'PRI_tau_py', 'PRI_tau_pz', 'PRI_met_px', 'PRI_met_py', 'PRI_jet_leading_px', 'PRI_jet_leading_py', 'PRI_jet_leading_pz', 'PRI_met_pt']\n"
     ]
    }
   ],
   "source": [
    "targ_feat = 'gen_target'\n",
    "gen_feats = [f for f in df.columns if 'gen_' in f]\n",
    "misc_feats = ['EventId']\n",
    "wgt_feat = 'gen_weight'\n",
    "cat_feats = ['PRI_jet_num']\n",
    "cont_feats = [f for f in df.columns if f not in gen_feats+cat_feats+misc_feats]\n",
    "print(len(cat_feats), cat_feats)\n",
    "print(len(cont_feats), cont_feats)\n",
    "train_feats = cont_feats + cat_feats"
   ]
  },
  {
   "cell_type": "markdown",
   "metadata": {},
   "source": [
    "To create our validation set, we'll eventually pull out a random sample, however it can be useful to ensure as much similarity as possible by doing a stratified split using the categories and classes in the data. `ids2unique` maps each set of categories to a unique integer, allowing us to create a single set of values to use as the stratification key."
   ]
  },
  {
   "cell_type": "code",
   "execution_count": 10,
   "metadata": {},
   "outputs": [],
   "source": [
    "df['gen_strat_key'] = ids2unique(df[[targ_feat] + cat_feats].values)"
   ]
  },
  {
   "cell_type": "code",
   "execution_count": 12,
   "metadata": {},
   "outputs": [],
   "source": [
    "df.replace([np.inf, -np.inf], np.nan, inplace=True)"
   ]
  },
  {
   "cell_type": "code",
   "execution_count": 13,
   "metadata": {},
   "outputs": [
    {
     "data": {
      "text/plain": [
       "['DER_mass_MMC',\n",
       " 'DER_deltaeta_jet_jet',\n",
       " 'DER_mass_jet_jet',\n",
       " 'DER_prodeta_jet_jet',\n",
       " 'DER_lep_eta_centrality',\n",
       " 'PRI_jet_subleading_px',\n",
       " 'PRI_jet_subleading_py',\n",
       " 'PRI_jet_subleading_pz',\n",
       " 'PRI_jet_leading_px',\n",
       " 'PRI_jet_leading_py',\n",
       " 'PRI_jet_leading_pz']"
      ]
     },
     "execution_count": 13,
     "metadata": {},
     "output_type": "execute_result"
    }
   ],
   "source": [
    "df.columns[df.isna().any()].tolist()"
   ]
  },
  {
   "cell_type": "markdown",
   "metadata": {},
   "source": [
    "We've got some NaNs in the data, however this is due to non-existent jets, float precision, and algorithm non-convergence. `FoldYielder` automatically applied `np.nan_to_num` so no worries."
   ]
  },
  {
   "cell_type": "markdown",
   "metadata": {},
   "source": [
    "### Data halving\n",
    "Split data in half to simulate training a pair of ensembles on halves of data"
   ]
  },
  {
   "cell_type": "code",
   "execution_count": 17,
   "metadata": {},
   "outputs": [],
   "source": [
    "set_0, set_1 = train_test_split(df.copy(), test_size=0.5, stratify=df.gen_strat_key, random_state=42)"
   ]
  },
  {
   "cell_type": "markdown",
   "metadata": {},
   "source": [
    "#### Final preprocessing\n",
    "The network weights will use initialisation schemes which expect the inputs to be unit Gaussian. We'll use sklearn pipelines to package transformations which alter the data to have mean zero and standard deviation one."
   ]
  },
  {
   "cell_type": "code",
   "execution_count": 18,
   "metadata": {},
   "outputs": [],
   "source": [
    "input_pipe_0 = fit_input_pipe(set_0, cont_feats, PATH/'input_pipe_0')\n",
    "input_pipe_1 = fit_input_pipe(set_1, cont_feats, PATH/'input_pipe_1')"
   ]
  },
  {
   "cell_type": "code",
   "execution_count": 19,
   "metadata": {},
   "outputs": [],
   "source": [
    "set_0[cont_feats] = input_pipe_0.transform(set_0[cont_feats])\n",
    "set_1[cont_feats] = input_pipe_1.transform(set_1[cont_feats])"
   ]
  },
  {
   "cell_type": "markdown",
   "metadata": {},
   "source": [
    "Since we'll be using entity embeddings for the categorical features, we want to transform their codes to start from zero and increase incrementaly. We also need to make sure the validation (and test) sets receive the same transformaitions as the training set.\n",
    "\n",
    "`proc_cats` does this and returns dictionaries of the both the mapping that was applied, and the cardinality of each feature."
   ]
  },
  {
   "cell_type": "code",
   "execution_count": 22,
   "metadata": {},
   "outputs": [
    {
     "data": {
      "text/plain": [
       "(OrderedDict([('PRI_jet_num', {0: 0, 1: 1, 2: 2, 3: 3})]),\n",
       " OrderedDict([('PRI_jet_num', 4)]))"
      ]
     },
     "execution_count": 22,
     "metadata": {},
     "output_type": "execute_result"
    }
   ],
   "source": [
    "cat_maps, cat_szs = proc_cats(df, cat_feats)\n",
    "cat_maps, cat_szs"
   ]
  },
  {
   "cell_type": "markdown",
   "metadata": {},
   "source": [
    "### Weight processing\n",
    "The data contains weights which are important to consider as they indicate which events are the most important to consider and are necessary to correctly compute the AMS at the end. However the data also contains an imbalance between signal and background in terms of raw event numbers. We can correct for this imbalance by renormalising the weights such that the sum for signal and background are equal, however since we might also want to compute the AMS on the training data, we'll make a copy of the column first."
   ]
  },
  {
   "cell_type": "code",
   "execution_count": 23,
   "metadata": {},
   "outputs": [],
   "source": [
    "set_0['gen_orig_weight'] = set_0['gen_weight']\n",
    "set_0.loc[set_0.gen_target == 0, 'gen_weight'] /= np.sum(set_0.loc[set_0.gen_target == 0, 'gen_weight'])\n",
    "set_0.loc[set_0.gen_target == 1, 'gen_weight'] /= np.sum(set_0.loc[set_0.gen_target == 1, 'gen_weight'])"
   ]
  },
  {
   "cell_type": "code",
   "execution_count": 24,
   "metadata": {},
   "outputs": [],
   "source": [
    "set_1['gen_orig_weight'] = set_1['gen_weight']\n",
    "set_1.loc[set_1.gen_target == 0, 'gen_weight'] /= np.sum(set_1.loc[set_1.gen_target == 0, 'gen_weight'])\n",
    "set_1.loc[set_1.gen_target == 1, 'gen_weight'] /= np.sum(set_1.loc[set_1.gen_target == 1, 'gen_weight'])"
   ]
  },
  {
   "cell_type": "markdown",
   "metadata": {},
   "source": [
    "### Conversion to fold file "
   ]
  },
  {
   "cell_type": "markdown",
   "metadata": {},
   "source": [
    "Having finished processing the data, we can now save it to h5py files in a format that `FoldYielder` will expect."
   ]
  },
  {
   "cell_type": "code",
   "execution_count": 25,
   "metadata": {},
   "outputs": [
    {
     "name": "stdout",
     "output_type": "stream",
     "text": [
      "Saving fold 0 with 12503 events\n",
      "Saving fold 1 with 12503 events\n",
      "Saving fold 2 with 12503 events\n",
      "Saving fold 3 with 12502 events\n",
      "Saving fold 4 with 12502 events\n",
      "Saving fold 5 with 12501 events\n",
      "Saving fold 6 with 12498 events\n",
      "Saving fold 7 with 12496 events\n",
      "Saving fold 8 with 12496 events\n",
      "Saving fold 9 with 12496 events\n"
     ]
    }
   ],
   "source": [
    "df2foldfile(df=set_0, n_folds=10,\n",
    "            cont_feats=cont_feats, cat_feats=cat_feats, targ_feats=targ_feat,\n",
    "            wgt_feat=wgt_feat, misc_feats=misc_feats+['gen_orig_weight'],\n",
    "            savename=PATH/'set_0', targ_type='float32', strat_key='gen_strat_key')"
   ]
  },
  {
   "cell_type": "code",
   "execution_count": 26,
   "metadata": {},
   "outputs": [
    {
     "name": "stdout",
     "output_type": "stream",
     "text": [
      "Saving fold 0 with 12504 events\n",
      "Saving fold 1 with 12503 events\n",
      "Saving fold 2 with 12502 events\n",
      "Saving fold 3 with 12502 events\n",
      "Saving fold 4 with 12502 events\n",
      "Saving fold 5 with 12500 events\n",
      "Saving fold 6 with 12499 events\n",
      "Saving fold 7 with 12496 events\n",
      "Saving fold 8 with 12496 events\n",
      "Saving fold 9 with 12496 events\n"
     ]
    }
   ],
   "source": [
    "df2foldfile(df=set_1, n_folds=10,\n",
    "            cont_feats=cont_feats, cat_feats=cat_feats, targ_feats=targ_feat,\n",
    "            wgt_feat=wgt_feat, misc_feats=misc_feats+['gen_orig_weight'],\n",
    "            savename=PATH/'set_1', targ_type='float32', strat_key='gen_strat_key')"
   ]
  },
  {
   "cell_type": "code",
   "execution_count": 27,
   "metadata": {},
   "outputs": [],
   "source": [
    "with open(PATH/'feats.pkl', 'wb') as fout:\n",
    "    pickle.dump({'targ_feats': targ_feat, 'cont_feats': cont_feats, 'cat_feats': cat_feats,\n",
    "                 'cat_maps': cat_maps, 'cat_szs': cat_szs}, fout)"
   ]
  },
  {
   "cell_type": "markdown",
   "metadata": {},
   "source": [
    "## Train classifier"
   ]
  },
  {
   "cell_type": "markdown",
   "metadata": {},
   "source": [
    "Now we're ready to begin training the network-based classifier. First we can load the feature sets, create a `FoldYielder` for the training data."
   ]
  },
  {
   "cell_type": "code",
   "execution_count": 29,
   "metadata": {},
   "outputs": [],
   "source": [
    "with open(PATH/'feats.pkl', 'rb') as fin:\n",
    "    feats = pickle.load(fin)\n",
    "    targ_feats = feats['targ_feats']\n",
    "    cont_feats = feats['cont_feats']\n",
    "    cat_feats = feats['cat_feats']    \n",
    "    cat_maps = feats['cat_maps']    \n",
    "    cat_szs = feats['cat_szs']\n",
    "    train_feats = cont_feats + cat_feats"
   ]
  },
  {
   "cell_type": "code",
   "execution_count": 63,
   "metadata": {},
   "outputs": [],
   "source": [
    "train_0_fy = FoldYielder(PATH/'set_0.hdf5', cont_feats, cat_feats, input_pipe=PATH/'input_pipe_0.pkl')\n",
    "train_1_fy = FoldYielder(PATH/'set_1.hdf5', cont_feats, cat_feats, input_pipe=PATH/'input_pipe_1.pkl')"
   ]
  },
  {
   "cell_type": "code",
   "execution_count": 35,
   "metadata": {},
   "outputs": [
    {
     "name": "stdout",
     "output_type": "stream",
     "text": [
      "\n",
      "Training on 29  continuous features: ['DER_mass_MMC', 'DER_mass_transverse_met_lep', 'DER_mass_vis', 'DER_pt_h', 'DER_deltaeta_jet_jet', 'DER_mass_jet_jet', 'DER_prodeta_jet_jet', 'DER_deltar_tau_lep', 'DER_pt_tot', 'DER_sum_pt', 'DER_pt_ratio_lep_tau', 'DER_met_phi_centrality', 'DER_lep_eta_centrality', 'PRI_met_sumet', 'PRI_jet_all_pt', 'PRI_jet_subleading_px', 'PRI_jet_subleading_py', 'PRI_jet_subleading_pz', 'PRI_lep_px', 'PRI_lep_pz', 'PRI_tau_px', 'PRI_tau_py', 'PRI_tau_pz', 'PRI_met_px', 'PRI_met_py', 'PRI_jet_leading_px', 'PRI_jet_leading_py', 'PRI_jet_leading_pz', 'PRI_met_pt']\n",
      "\n",
      "Training on 1  categorical features: ['PRI_jet_num']\n",
      "Model:\n",
      "<bound method Module.parameters of Sequential(\n",
      "  (0): CatEmbHead(\n",
      "    (embeds): ModuleList(\n",
      "      (0): Embedding(4, 2)\n",
      "    )\n",
      "  )\n",
      "  (1): FullyConnected(\n",
      "    (layers): ModuleList(\n",
      "      (0): Sequential(\n",
      "        (0): Linear(in_features=31, out_features=31, bias=True)\n",
      "        (1): Swish()\n",
      "        (2): Dropout(p=0.1)\n",
      "      )\n",
      "      (1): Sequential(\n",
      "        (0): Linear(in_features=62, out_features=31, bias=True)\n",
      "        (1): Swish()\n",
      "        (2): Dropout(p=0.1)\n",
      "      )\n",
      "      (2): Sequential(\n",
      "        (0): Linear(in_features=93, out_features=31, bias=True)\n",
      "        (1): Swish()\n",
      "        (2): Dropout(p=0.1)\n",
      "      )\n",
      "      (3): Sequential(\n",
      "        (0): Linear(in_features=124, out_features=31, bias=True)\n",
      "        (1): Swish()\n",
      "        (2): Dropout(p=0.1)\n",
      "      )\n",
      "      (4): Sequential(\n",
      "        (0): Linear(in_features=155, out_features=31, bias=True)\n",
      "        (1): Swish()\n",
      "        (2): Dropout(p=0.1)\n",
      "      )\n",
      "      (5): Sequential(\n",
      "        (0): Linear(in_features=186, out_features=31, bias=True)\n",
      "        (1): Swish()\n",
      "        (2): Dropout(p=0.1)\n",
      "      )\n",
      "    )\n",
      "  )\n",
      "  (2): ClassRegMulti(\n",
      "    (dense): Linear(in_features=31, out_features=1, bias=True)\n",
      "    (act): Sigmoid()\n",
      "  )\n",
      ")>\n",
      "                   \n",
      "\n",
      "Number of trainable parameters: 20407\n",
      "                   \n",
      "\n",
      "Optimiser:\n",
      "Adam (\n",
      "Parameter Group 0\n",
      "    amsgrad: False\n",
      "    betas: (0.9, 0.999)\n",
      "    eps: 1e-08\n",
      "    lr: 0.001\n",
      "    weight_decay: 0\n",
      ")\n",
      "                   \n",
      "\n",
      "Loss:\n",
      "<class 'torch.nn.modules.loss.BCELoss'>\n"
     ]
    }
   ],
   "source": [
    "bs = 256\n",
    "objective = 'classification'\n",
    "model_args = {'body':{'act':'swish', 'width':31, 'depth':6, 'do':0.1, 'dense':True}}\n",
    "opt_args = {'opt':'adam', 'eps':1e-08}\n",
    "cat_embedder = CatEmbedder.from_fy(train_0_fy)\n",
    "\n",
    "n_out = 1\n",
    "model_builder = ModelBuilder(objective, cont_feats=cont_feats, n_out=n_out, cat_embedder=cat_embedder,\n",
    "                             model_args=model_args, opt_args=opt_args)\n",
    "\n",
    "print(\"\\nTraining on\", len(cont_feats), \" continuous features:\", [var for var in cont_feats])\n",
    "print(\"\\nTraining on\", len(cat_feats), \" categorical features:\", [var for var in cat_feats])\n",
    "print(Model(model_builder))"
   ]
  },
  {
   "cell_type": "markdown",
   "metadata": {},
   "source": [
    "The learning rate can be quickly optimised via the [LR range test](https://arxiv.org/abs/1506.01186). This involves gradually increasing the LR from a small value to a lrage one after each minibatch update and then plotting the loss as a function of the LR. One can expect to see an initial period of slow, or nonexistant, loss decrease where the LR is far too small. Eventully the LR becomes large enough to allow useful weigh updates (loss decreases). Eventually the LR becomes so large the network diverges (loss platues then increases). The optimal LR is the highest one at which the loss is still decreasing.\n",
    "\n",
    "To allow for the randomness between different network trainings and data, `fold_lr_find`, runs several trainings using different folds of the data and then plots to mean and standard deviation of the loss."
   ]
  },
  {
   "cell_type": "code",
   "execution_count": 37,
   "metadata": {
    "scrolled": false
   },
   "outputs": [
    {
     "data": {
      "text/html": [
       "\n",
       "    <div>\n",
       "        <style>\n",
       "            /* Turns off some styling */\n",
       "            progress {\n",
       "                /* gets rid of default border in Firefox and Opera. */\n",
       "                border: none;\n",
       "                /* Needs to be in here for Safari polyfill so background images work as expected. */\n",
       "                background-size: auto;\n",
       "            }\n",
       "            .progress-bar-interrupted, .progress-bar-interrupted::-webkit-progress-bar {\n",
       "                background: #F44336;\n",
       "            }\n",
       "        </style>\n",
       "      <progress value='10' class='' max='10', style='width:300px; height:20px; vertical-align: middle;'></progress>\n",
       "      100.00% [10/10 00:02<00:00]\n",
       "    </div>\n",
       "    "
      ],
      "text/plain": [
       "<IPython.core.display.HTML object>"
      ]
     },
     "metadata": {},
     "output_type": "display_data"
    },
    {
     "name": "stdout",
     "output_type": "stream",
     "text": [
      "LR finder took 2.080s \n"
     ]
    },
    {
     "data": {
      "image/png": "[encoded data removed]",
      "text/plain": [
       "<Figure size 1024x576 with 1 Axes>"
      ]
     },
     "metadata": {},
     "output_type": "display_data"
    }
   ],
   "source": [
    "lr_finder = fold_lr_find(train_0_fy, model_builder, bs, lr_bounds=[1e-5,1e1])"
   ]
  },
  {
   "cell_type": "code",
   "execution_count": 53,
   "metadata": {},
   "outputs": [],
   "source": [
    "n_models = 5\n",
    "\n",
    "callback_partials = [partial(OneCycle, lengths=(45, 90), lr_range=[6e-3, 6e-3],\n",
    "                             mom_range=(0.85, 0.95), interp='cosine')]\n",
    "eval_metrics = {'AMS':AMS(n_total=250000, br=10, wgt_name='gen_orig_weight')}\n",
    "train_func = partial(fold_train_ensemble,\n",
    "                     n_models=n_models,\n",
    "                     model_builder=model_builder,\n",
    "                     bs=bs,\n",
    "                     callback_partials=callback_partials,\n",
    "                     eval_metrics=eval_metrics,\n",
    "                     max_epochs=15, patience=15)"
   ]
  },
  {
   "cell_type": "markdown",
   "metadata": {},
   "source": [
    "`fold_train_ensemble` performs training of (an ensemble of) models produced by the `ModelBuilder` using data provided by a `FoldYielder`. Model training  runs for upto `max_epochs` number of epochs, or until `patience` number of sub-epochs (or cycles) have elapsed with out an improvment of the validation loss. The model is then saved to `saveloc` to be loaded later. The function returns results of the training and model perfomance on validation fold. If an `AbsCyclicCallback` is used, then snapshots of the model weights are automatically saved after each cycle to allow for [Snapshot Ensembling](https://arxiv.org/abs/1704.00109) or [Fast Geometric Ensembling](https://arxiv.org/abs/1802.10026)."
   ]
  },
  {
   "cell_type": "code",
   "execution_count": 48,
   "metadata": {
    "scrolled": false
   },
   "outputs": [
    {
     "data": {
      "text/html": [],
      "text/plain": [
       "<IPython.core.display.HTML object>"
      ]
     },
     "metadata": {},
     "output_type": "display_data"
    },
    {
     "name": "stdout",
     "output_type": "stream",
     "text": [
      "Training model 1 / 5, Val ID = 0\n"
     ]
    },
    {
     "data": {
      "image/png": "[encoded data removed]",
      "text/plain": [
       "<Figure size 432x288 with 1 Axes>"
      ]
     },
     "metadata": {},
     "output_type": "display_data"
    },
    {
     "data": {
      "text/html": [
       "\n",
       "    <div>\n",
       "        <style>\n",
       "            /* Turns off some styling */\n",
       "            progress {\n",
       "                /* gets rid of default border in Firefox and Opera. */\n",
       "                border: none;\n",
       "                /* Needs to be in here for Safari polyfill so background images work as expected. */\n",
       "                background-size: auto;\n",
       "            }\n",
       "            .progress-bar-interrupted, .progress-bar-interrupted::-webkit-progress-bar {\n",
       "                background: #F44336;\n",
       "            }\n",
       "        </style>\n",
       "      <progress value='0' class='progress-bar-interrupted' max='15', style='width:300px; height:20px; vertical-align: middle;'></progress>\n",
       "      Interrupted\n",
       "    </div>\n",
       "    "
      ],
      "text/plain": [
       "<IPython.core.display.HTML object>"
      ]
     },
     "metadata": {},
     "output_type": "display_data"
    },
    {
     "name": "stdout",
     "output_type": "stream",
     "text": [
      "Early stopping after 135 epochs\n",
      "Scores are: {'loss': 5.110091933602234e-06, 'AMS': 3.769222049634984}\n",
      "Fold took 45.815s\n",
      "\n",
      "Training model 2 / 5, Val ID = 1\n"
     ]
    },
    {
     "data": {
      "image/png": "[encoded data removed]",
      "text/plain": [
       "<Figure size 432x288 with 1 Axes>"
      ]
     },
     "metadata": {},
     "output_type": "display_data"
    },
    {
     "data": {
      "text/html": [
       "\n",
       "    <div>\n",
       "        <style>\n",
       "            /* Turns off some styling */\n",
       "            progress {\n",
       "                /* gets rid of default border in Firefox and Opera. */\n",
       "                border: none;\n",
       "                /* Needs to be in here for Safari polyfill so background images work as expected. */\n",
       "                background-size: auto;\n",
       "            }\n",
       "            .progress-bar-interrupted, .progress-bar-interrupted::-webkit-progress-bar {\n",
       "                background: #F44336;\n",
       "            }\n",
       "        </style>\n",
       "      <progress value='0' class='progress-bar-interrupted' max='15', style='width:300px; height:20px; vertical-align: middle;'></progress>\n",
       "      Interrupted\n",
       "    </div>\n",
       "    "
      ],
      "text/plain": [
       "<IPython.core.display.HTML object>"
      ]
     },
     "metadata": {},
     "output_type": "display_data"
    },
    {
     "name": "stdout",
     "output_type": "stream",
     "text": [
      "Early stopping after 135 epochs\n",
      "Scores are: {'loss': 5.172066266823094e-06, 'AMS': 3.789013550417072}\n",
      "Fold took 44.417s\n",
      "\n",
      "Training model 3 / 5, Val ID = 2\n"
     ]
    },
    {
     "data": {
      "image/png": "[encoded data removed]",
      "text/plain": [
       "<Figure size 432x288 with 1 Axes>"
      ]
     },
     "metadata": {},
     "output_type": "display_data"
    },
    {
     "data": {
      "text/html": [
       "\n",
       "    <div>\n",
       "        <style>\n",
       "            /* Turns off some styling */\n",
       "            progress {\n",
       "                /* gets rid of default border in Firefox and Opera. */\n",
       "                border: none;\n",
       "                /* Needs to be in here for Safari polyfill so background images work as expected. */\n",
       "                background-size: auto;\n",
       "            }\n",
       "            .progress-bar-interrupted, .progress-bar-interrupted::-webkit-progress-bar {\n",
       "                background: #F44336;\n",
       "            }\n",
       "        </style>\n",
       "      <progress value='0' class='progress-bar-interrupted' max='15', style='width:300px; height:20px; vertical-align: middle;'></progress>\n",
       "      Interrupted\n",
       "    </div>\n",
       "    "
      ],
      "text/plain": [
       "<IPython.core.display.HTML object>"
      ]
     },
     "metadata": {},
     "output_type": "display_data"
    },
    {
     "name": "stdout",
     "output_type": "stream",
     "text": [
      "Early stopping after 135 epochs\n",
      "Scores are: {'loss': 5.025127848057309e-06, 'AMS': 3.636404394540381}\n",
      "Fold took 44.384s\n",
      "\n",
      "Training model 4 / 5, Val ID = 3\n"
     ]
    },
    {
     "data": {
      "image/png": "[encoded data removed]",
      "text/plain": [
       "<Figure size 432x288 with 1 Axes>"
      ]
     },
     "metadata": {},
     "output_type": "display_data"
    },
    {
     "data": {
      "text/html": [
       "\n",
       "    <div>\n",
       "        <style>\n",
       "            /* Turns off some styling */\n",
       "            progress {\n",
       "                /* gets rid of default border in Firefox and Opera. */\n",
       "                border: none;\n",
       "                /* Needs to be in here for Safari polyfill so background images work as expected. */\n",
       "                background-size: auto;\n",
       "            }\n",
       "            .progress-bar-interrupted, .progress-bar-interrupted::-webkit-progress-bar {\n",
       "                background: #F44336;\n",
       "            }\n",
       "        </style>\n",
       "      <progress value='0' class='progress-bar-interrupted' max='15', style='width:300px; height:20px; vertical-align: middle;'></progress>\n",
       "      Interrupted\n",
       "    </div>\n",
       "    "
      ],
      "text/plain": [
       "<IPython.core.display.HTML object>"
      ]
     },
     "metadata": {},
     "output_type": "display_data"
    },
    {
     "name": "stdout",
     "output_type": "stream",
     "text": [
      "Early stopping after 135 epochs\n",
      "Scores are: {'loss': 5.174379566597054e-06, 'AMS': 3.8020816072817234}\n",
      "Fold took 44.356s\n",
      "\n",
      "Training model 5 / 5, Val ID = 4\n"
     ]
    },
    {
     "data": {
      "image/png": "[encoded data removed]",
      "text/plain": [
       "<Figure size 432x288 with 1 Axes>"
      ]
     },
     "metadata": {},
     "output_type": "display_data"
    },
    {
     "data": {
      "text/html": [
       "\n",
       "    <div>\n",
       "        <style>\n",
       "            /* Turns off some styling */\n",
       "            progress {\n",
       "                /* gets rid of default border in Firefox and Opera. */\n",
       "                border: none;\n",
       "                /* Needs to be in here for Safari polyfill so background images work as expected. */\n",
       "                background-size: auto;\n",
       "            }\n",
       "            .progress-bar-interrupted, .progress-bar-interrupted::-webkit-progress-bar {\n",
       "                background: #F44336;\n",
       "            }\n",
       "        </style>\n",
       "      <progress value='0' class='progress-bar-interrupted' max='15', style='width:300px; height:20px; vertical-align: middle;'></progress>\n",
       "      Interrupted\n",
       "    </div>\n",
       "    "
      ],
      "text/plain": [
       "<IPython.core.display.HTML object>"
      ]
     },
     "metadata": {},
     "output_type": "display_data"
    },
    {
     "name": "stdout",
     "output_type": "stream",
     "text": [
      "Early stopping after 135 epochs\n",
      "Scores are: {'loss': 5.0059688874171115e-06, 'AMS': 4.054937160964254}\n",
      "Fold took 44.611s\n",
      "\n",
      "\n",
      "______________________________________\n",
      "Training finished\n",
      "Cross-validation took 223.585s \n"
     ]
    },
    {
     "data": {
      "text/plain": [
       "<Figure size 432x288 with 0 Axes>"
      ]
     },
     "metadata": {},
     "output_type": "display_data"
    },
    {
     "data": {
      "text/plain": [
       "<Figure size 432x288 with 0 Axes>"
      ]
     },
     "metadata": {},
     "output_type": "display_data"
    },
    {
     "data": {
      "text/plain": [
       "<Figure size 432x288 with 0 Axes>"
      ]
     },
     "metadata": {},
     "output_type": "display_data"
    },
    {
     "data": {
      "text/plain": [
       "<Figure size 432x288 with 0 Axes>"
      ]
     },
     "metadata": {},
     "output_type": "display_data"
    },
    {
     "data": {
      "text/plain": [
       "<Figure size 432x288 with 0 Axes>"
      ]
     },
     "metadata": {},
     "output_type": "display_data"
    },
    {
     "data": {
      "image/png": "[encoded data removed]",
      "text/plain": [
       "<Figure size 1024x576 with 1 Axes>"
      ]
     },
     "metadata": {},
     "output_type": "display_data"
    },
    {
     "name": "stdout",
     "output_type": "stream",
     "text": [
      "Mean loss = 5.1e-06±3e-08\n",
      "Mean AMS = 3.81±0.06\n",
      "______________________________________\n",
      "\n"
     ]
    }
   ],
   "source": [
    "results_0 = train_func(train_0_fy, savepath=Path('train_weights_0'))"
   ]
  },
  {
   "cell_type": "code",
   "execution_count": 49,
   "metadata": {
    "scrolled": false
   },
   "outputs": [
    {
     "data": {
      "text/html": [],
      "text/plain": [
       "<IPython.core.display.HTML object>"
      ]
     },
     "metadata": {},
     "output_type": "display_data"
    },
    {
     "name": "stdout",
     "output_type": "stream",
     "text": [
      "Training model 1 / 5, Val ID = 0\n"
     ]
    },
    {
     "data": {
      "image/png": "[encoded data removed]",
      "text/plain": [
       "<Figure size 432x288 with 1 Axes>"
      ]
     },
     "metadata": {},
     "output_type": "display_data"
    },
    {
     "data": {
      "text/html": [
       "\n",
       "    <div>\n",
       "        <style>\n",
       "            /* Turns off some styling */\n",
       "            progress {\n",
       "                /* gets rid of default border in Firefox and Opera. */\n",
       "                border: none;\n",
       "                /* Needs to be in here for Safari polyfill so background images work as expected. */\n",
       "                background-size: auto;\n",
       "            }\n",
       "            .progress-bar-interrupted, .progress-bar-interrupted::-webkit-progress-bar {\n",
       "                background: #F44336;\n",
       "            }\n",
       "        </style>\n",
       "      <progress value='0' class='progress-bar-interrupted' max='15', style='width:300px; height:20px; vertical-align: middle;'></progress>\n",
       "      Interrupted\n",
       "    </div>\n",
       "    "
      ],
      "text/plain": [
       "<IPython.core.display.HTML object>"
      ]
     },
     "metadata": {},
     "output_type": "display_data"
    },
    {
     "name": "stdout",
     "output_type": "stream",
     "text": [
      "Early stopping after 135 epochs\n",
      "Scores are: {'loss': 5.007285380997928e-06, 'AMS': 4.272769974320235}\n",
      "Fold took 44.843s\n",
      "\n",
      "Training model 2 / 5, Val ID = 1\n"
     ]
    },
    {
     "data": {
      "image/png": "[encoded data removed]",
      "text/plain": [
       "<Figure size 432x288 with 1 Axes>"
      ]
     },
     "metadata": {},
     "output_type": "display_data"
    },
    {
     "data": {
      "text/html": [
       "\n",
       "    <div>\n",
       "        <style>\n",
       "            /* Turns off some styling */\n",
       "            progress {\n",
       "                /* gets rid of default border in Firefox and Opera. */\n",
       "                border: none;\n",
       "                /* Needs to be in here for Safari polyfill so background images work as expected. */\n",
       "                background-size: auto;\n",
       "            }\n",
       "            .progress-bar-interrupted, .progress-bar-interrupted::-webkit-progress-bar {\n",
       "                background: #F44336;\n",
       "            }\n",
       "        </style>\n",
       "      <progress value='0' class='progress-bar-interrupted' max='15', style='width:300px; height:20px; vertical-align: middle;'></progress>\n",
       "      Interrupted\n",
       "    </div>\n",
       "    "
      ],
      "text/plain": [
       "<IPython.core.display.HTML object>"
      ]
     },
     "metadata": {},
     "output_type": "display_data"
    },
    {
     "name": "stdout",
     "output_type": "stream",
     "text": [
      "Early stopping after 135 epochs\n",
      "Scores are: {'loss': 5.023918674851302e-06, 'AMS': 3.461042430873245}\n",
      "Fold took 45.021s\n",
      "\n",
      "Training model 3 / 5, Val ID = 2\n"
     ]
    },
    {
     "data": {
      "image/png": "[encoded data removed]",
      "text/plain": [
       "<Figure size 432x288 with 1 Axes>"
      ]
     },
     "metadata": {},
     "output_type": "display_data"
    },
    {
     "data": {
      "text/html": [
       "\n",
       "    <div>\n",
       "        <style>\n",
       "            /* Turns off some styling */\n",
       "            progress {\n",
       "                /* gets rid of default border in Firefox and Opera. */\n",
       "                border: none;\n",
       "                /* Needs to be in here for Safari polyfill so background images work as expected. */\n",
       "                background-size: auto;\n",
       "            }\n",
       "            .progress-bar-interrupted, .progress-bar-interrupted::-webkit-progress-bar {\n",
       "                background: #F44336;\n",
       "            }\n",
       "        </style>\n",
       "      <progress value='0' class='progress-bar-interrupted' max='15', style='width:300px; height:20px; vertical-align: middle;'></progress>\n",
       "      Interrupted\n",
       "    </div>\n",
       "    "
      ],
      "text/plain": [
       "<IPython.core.display.HTML object>"
      ]
     },
     "metadata": {},
     "output_type": "display_data"
    },
    {
     "name": "stdout",
     "output_type": "stream",
     "text": [
      "Early stopping after 135 epochs\n",
      "Scores are: {'loss': 5.137294465384912e-06, 'AMS': 4.01656632389301}\n",
      "Fold took 44.198s\n",
      "\n",
      "Training model 4 / 5, Val ID = 3\n"
     ]
    },
    {
     "data": {
      "image/png": "[encoded data removed]",
      "text/plain": [
       "<Figure size 432x288 with 1 Axes>"
      ]
     },
     "metadata": {},
     "output_type": "display_data"
    },
    {
     "data": {
      "text/html": [
       "\n",
       "    <div>\n",
       "        <style>\n",
       "            /* Turns off some styling */\n",
       "            progress {\n",
       "                /* gets rid of default border in Firefox and Opera. */\n",
       "                border: none;\n",
       "                /* Needs to be in here for Safari polyfill so background images work as expected. */\n",
       "                background-size: auto;\n",
       "            }\n",
       "            .progress-bar-interrupted, .progress-bar-interrupted::-webkit-progress-bar {\n",
       "                background: #F44336;\n",
       "            }\n",
       "        </style>\n",
       "      <progress value='0' class='progress-bar-interrupted' max='15', style='width:300px; height:20px; vertical-align: middle;'></progress>\n",
       "      Interrupted\n",
       "    </div>\n",
       "    "
      ],
      "text/plain": [
       "<IPython.core.display.HTML object>"
      ]
     },
     "metadata": {},
     "output_type": "display_data"
    },
    {
     "name": "stdout",
     "output_type": "stream",
     "text": [
      "Early stopping after 135 epochs\n",
      "Scores are: {'loss': 5.1637548494909424e-06, 'AMS': 3.8860608501269778}\n",
      "Fold took 43.567s\n",
      "\n",
      "Training model 5 / 5, Val ID = 4\n"
     ]
    },
    {
     "data": {
      "image/png": "[encoded data removed]",
      "text/plain": [
       "<Figure size 432x288 with 1 Axes>"
      ]
     },
     "metadata": {},
     "output_type": "display_data"
    },
    {
     "data": {
      "text/html": [
       "\n",
       "    <div>\n",
       "        <style>\n",
       "            /* Turns off some styling */\n",
       "            progress {\n",
       "                /* gets rid of default border in Firefox and Opera. */\n",
       "                border: none;\n",
       "                /* Needs to be in here for Safari polyfill so background images work as expected. */\n",
       "                background-size: auto;\n",
       "            }\n",
       "            .progress-bar-interrupted, .progress-bar-interrupted::-webkit-progress-bar {\n",
       "                background: #F44336;\n",
       "            }\n",
       "        </style>\n",
       "      <progress value='0' class='progress-bar-interrupted' max='15', style='width:300px; height:20px; vertical-align: middle;'></progress>\n",
       "      Interrupted\n",
       "    </div>\n",
       "    "
      ],
      "text/plain": [
       "<IPython.core.display.HTML object>"
      ]
     },
     "metadata": {},
     "output_type": "display_data"
    },
    {
     "name": "stdout",
     "output_type": "stream",
     "text": [
      "Early stopping after 135 epochs\n",
      "Scores are: {'loss': 5.136747859069146e-06, 'AMS': 4.215754823337901}\n",
      "Fold took 45.197s\n",
      "\n",
      "\n",
      "______________________________________\n",
      "Training finished\n",
      "Cross-validation took 222.830s \n"
     ]
    },
    {
     "data": {
      "text/plain": [
       "<Figure size 432x288 with 0 Axes>"
      ]
     },
     "metadata": {},
     "output_type": "display_data"
    },
    {
     "data": {
      "text/plain": [
       "<Figure size 432x288 with 0 Axes>"
      ]
     },
     "metadata": {},
     "output_type": "display_data"
    },
    {
     "data": {
      "text/plain": [
       "<Figure size 432x288 with 0 Axes>"
      ]
     },
     "metadata": {},
     "output_type": "display_data"
    },
    {
     "data": {
      "text/plain": [
       "<Figure size 432x288 with 0 Axes>"
      ]
     },
     "metadata": {},
     "output_type": "display_data"
    },
    {
     "data": {
      "text/plain": [
       "<Figure size 432x288 with 0 Axes>"
      ]
     },
     "metadata": {},
     "output_type": "display_data"
    },
    {
     "data": {
      "image/png": "[encoded data removed]",
      "text/plain": [
       "<Figure size 1024x576 with 1 Axes>"
      ]
     },
     "metadata": {},
     "output_type": "display_data"
    },
    {
     "name": "stdout",
     "output_type": "stream",
     "text": [
      "Mean loss = 5.09e-06±3e-08\n",
      "Mean AMS = 4.0±0.1\n",
      "______________________________________\n",
      "\n"
     ]
    }
   ],
   "source": [
    "results_1 = train_func(train_1_fy, savepath=Path('train_weights_1'))"
   ]
  },
  {
   "cell_type": "markdown",
   "metadata": {},
   "source": [
    "## Ensemble loading\n",
    "We can now build an ensemble from the trained models, however rather than simply treating them all equally, we can weight them according to some metric (e.g. AMS, reciprocal of loss)."
   ]
  },
  {
   "cell_type": "code",
   "execution_count": 55,
   "metadata": {},
   "outputs": [
    {
     "name": "stdout",
     "output_type": "stream",
     "text": [
      "Choosing ensemble by loss\n"
     ]
    },
    {
     "data": {
      "text/html": [
       "\n",
       "    <div>\n",
       "        <style>\n",
       "            /* Turns off some styling */\n",
       "            progress {\n",
       "                /* gets rid of default border in Firefox and Opera. */\n",
       "                border: none;\n",
       "                /* Needs to be in here for Safari polyfill so background images work as expected. */\n",
       "                background-size: auto;\n",
       "            }\n",
       "            .progress-bar-interrupted, .progress-bar-interrupted::-webkit-progress-bar {\n",
       "                background: #F44336;\n",
       "            }\n",
       "        </style>\n",
       "      <progress value='5' class='' max='5', style='width:300px; height:20px; vertical-align: middle;'></progress>\n",
       "      100.00% [5/5 00:00<00:00]\n",
       "    </div>\n",
       "    "
      ],
      "text/plain": [
       "<IPython.core.display.HTML object>"
      ]
     },
     "metadata": {},
     "output_type": "display_data"
    },
    {
     "name": "stdout",
     "output_type": "stream",
     "text": [
      "Model 0 is 4 with loss = 5.0059688874171115e-06\n",
      "Model 1 is 2 with loss = 5.025127848057309e-06\n",
      "Model 2 is 0 with loss = 5.110091933602234e-06\n",
      "Model 3 is 1 with loss = 5.172066266823094e-06\n",
      "Model 4 is 3 with loss = 5.174379566597054e-06\n",
      "Choosing ensemble by loss\n"
     ]
    },
    {
     "data": {
      "text/html": [
       "\n",
       "    <div>\n",
       "        <style>\n",
       "            /* Turns off some styling */\n",
       "            progress {\n",
       "                /* gets rid of default border in Firefox and Opera. */\n",
       "                border: none;\n",
       "                /* Needs to be in here for Safari polyfill so background images work as expected. */\n",
       "                background-size: auto;\n",
       "            }\n",
       "            .progress-bar-interrupted, .progress-bar-interrupted::-webkit-progress-bar {\n",
       "                background: #F44336;\n",
       "            }\n",
       "        </style>\n",
       "      <progress value='5' class='' max='5', style='width:300px; height:20px; vertical-align: middle;'></progress>\n",
       "      100.00% [5/5 00:00<00:00]\n",
       "    </div>\n",
       "    "
      ],
      "text/plain": [
       "<IPython.core.display.HTML object>"
      ]
     },
     "metadata": {},
     "output_type": "display_data"
    },
    {
     "name": "stdout",
     "output_type": "stream",
     "text": [
      "Model 0 is 0 with loss = 5.007285380997928e-06\n",
      "Model 1 is 1 with loss = 5.023918674851302e-06\n",
      "Model 2 is 4 with loss = 5.136747859069146e-06\n",
      "Model 3 is 2 with loss = 5.137294465384912e-06\n",
      "Model 4 is 3 with loss = 5.1637548494909424e-06\n"
     ]
    }
   ],
   "source": [
    "ensemble_0 = Ensemble.from_results(results_0[0], n_models, model_builder, location=Path('train_weights_0'))\n",
    "ensemble_1 = Ensemble.from_results(results_1[0], n_models, model_builder, location=Path('train_weights_1'))"
   ]
  },
  {
   "cell_type": "code",
   "execution_count": 58,
   "metadata": {
    "scrolled": true
   },
   "outputs": [
    {
     "data": {
      "text/html": [
       "\n",
       "    <div>\n",
       "        <style>\n",
       "            /* Turns off some styling */\n",
       "            progress {\n",
       "                /* gets rid of default border in Firefox and Opera. */\n",
       "                border: none;\n",
       "                /* Needs to be in here for Safari polyfill so background images work as expected. */\n",
       "                background-size: auto;\n",
       "            }\n",
       "            .progress-bar-interrupted, .progress-bar-interrupted::-webkit-progress-bar {\n",
       "                background: #F44336;\n",
       "            }\n",
       "        </style>\n",
       "      <progress value='5' class='' max='5', style='width:300px; height:20px; vertical-align: middle;'></progress>\n",
       "      100.00% [5/5 00:00<00:00]\n",
       "    </div>\n",
       "    "
      ],
      "text/plain": [
       "<IPython.core.display.HTML object>"
      ]
     },
     "metadata": {},
     "output_type": "display_data"
    },
    {
     "data": {
      "text/html": [
       "\n",
       "    <div>\n",
       "        <style>\n",
       "            /* Turns off some styling */\n",
       "            progress {\n",
       "                /* gets rid of default border in Firefox and Opera. */\n",
       "                border: none;\n",
       "                /* Needs to be in here for Safari polyfill so background images work as expected. */\n",
       "                background-size: auto;\n",
       "            }\n",
       "            .progress-bar-interrupted, .progress-bar-interrupted::-webkit-progress-bar {\n",
       "                background: #F44336;\n",
       "            }\n",
       "        </style>\n",
       "      <progress value='5' class='' max='5', style='width:300px; height:20px; vertical-align: middle;'></progress>\n",
       "      100.00% [5/5 00:00<00:00]\n",
       "    </div>\n",
       "    "
      ],
      "text/plain": [
       "<IPython.core.display.HTML object>"
      ]
     },
     "metadata": {},
     "output_type": "display_data"
    }
   ],
   "source": [
    "ensemble_0.save('models/ensemble_0/example', feats=train_feats, overwrite=True)\n",
    "ensemble_1.save('models/ensemble_1/example', feats=train_feats, overwrite=True)"
   ]
  },
  {
   "cell_type": "markdown",
   "metadata": {},
   "source": [
    "## Ensemble export to TensorFlow"
   ]
  },
  {
   "cell_type": "code",
   "execution_count": 59,
   "metadata": {
    "scrolled": true
   },
   "outputs": [
    {
     "name": "stderr",
     "output_type": "stream",
     "text": [
      "WARNING:root:Limited tf.compat.v2.summary API due to missing TensorBoard installation.\n"
     ]
    },
    {
     "name": "stdout",
     "output_type": "stream",
     "text": [
      "WARNING:tensorflow:From /home/giles/anaconda3/lib/python3.6/site-packages/onnx_tf/handlers/backend/ceil.py:10: The name tf.ceil is deprecated. Please use tf.math.ceil instead.\n",
      "\n"
     ]
    },
    {
     "name": "stderr",
     "output_type": "stream",
     "text": [
      "/home/giles/anaconda3/lib/python3.6/site-packages/onnx_tf/common/__init__.py:87: UserWarning: onnx_tf.common.get_outputs_names is deprecated. It will be removed in future release. Use TensorflowGraph.get_outputs_names instead.\n",
      "  warnings.warn(message)\n",
      "WARNING:tensorflow:From /home/giles/anaconda3/lib/python3.6/site-packages/onnx_tf/handlers/backend/ceil.py:10: The name tf.ceil is deprecated. Please use tf.math.ceil instead.\n",
      "\n"
     ]
    },
    {
     "name": "stdout",
     "output_type": "stream",
     "text": [
      "WARNING:tensorflow:From /home/giles/anaconda3/lib/python3.6/site-packages/onnx_tf/handlers/backend/depth_to_space.py:12: The name tf.depth_to_space is deprecated. Please use tf.compat.v1.depth_to_space instead.\n",
      "\n"
     ]
    },
    {
     "name": "stderr",
     "output_type": "stream",
     "text": [
      "WARNING:tensorflow:From /home/giles/anaconda3/lib/python3.6/site-packages/onnx_tf/handlers/backend/depth_to_space.py:12: The name tf.depth_to_space is deprecated. Please use tf.compat.v1.depth_to_space instead.\n",
      "\n"
     ]
    },
    {
     "name": "stdout",
     "output_type": "stream",
     "text": [
      "WARNING:tensorflow:From /home/giles/anaconda3/lib/python3.6/site-packages/onnx_tf/handlers/backend/erf.py:9: The name tf.erf is deprecated. Please use tf.math.erf instead.\n",
      "\n"
     ]
    },
    {
     "name": "stderr",
     "output_type": "stream",
     "text": [
      "WARNING:tensorflow:From /home/giles/anaconda3/lib/python3.6/site-packages/onnx_tf/handlers/backend/erf.py:9: The name tf.erf is deprecated. Please use tf.math.erf instead.\n",
      "\n"
     ]
    },
    {
     "name": "stdout",
     "output_type": "stream",
     "text": [
      "WARNING:tensorflow:\n",
      "The TensorFlow contrib module will not be included in TensorFlow 2.0.\n",
      "For more information, please see:\n",
      "  * https://github.com/tensorflow/community/blob/master/rfcs/20180907-contrib-sunset.md\n",
      "  * https://github.com/tensorflow/addons\n",
      "  * https://github.com/tensorflow/io (for I/O related ops)\n",
      "If you depend on functionality not listed there, please file an issue.\n",
      "\n"
     ]
    },
    {
     "name": "stderr",
     "output_type": "stream",
     "text": [
      "WARNING:tensorflow:\n",
      "The TensorFlow contrib module will not be included in TensorFlow 2.0.\n",
      "For more information, please see:\n",
      "  * https://github.com/tensorflow/community/blob/master/rfcs/20180907-contrib-sunset.md\n",
      "  * https://github.com/tensorflow/addons\n",
      "  * https://github.com/tensorflow/io (for I/O related ops)\n",
      "If you depend on functionality not listed there, please file an issue.\n",
      "\n"
     ]
    },
    {
     "name": "stdout",
     "output_type": "stream",
     "text": [
      "WARNING:tensorflow:From /home/giles/anaconda3/lib/python3.6/site-packages/onnx_tf/handlers/backend/is_nan.py:9: The name tf.is_nan is deprecated. Please use tf.math.is_nan instead.\n",
      "\n"
     ]
    },
    {
     "name": "stderr",
     "output_type": "stream",
     "text": [
      "WARNING:tensorflow:From /home/giles/anaconda3/lib/python3.6/site-packages/onnx_tf/handlers/backend/is_nan.py:9: The name tf.is_nan is deprecated. Please use tf.math.is_nan instead.\n",
      "\n"
     ]
    },
    {
     "name": "stdout",
     "output_type": "stream",
     "text": [
      "WARNING:tensorflow:From /home/giles/anaconda3/lib/python3.6/site-packages/onnx_tf/handlers/backend/log.py:10: The name tf.log is deprecated. Please use tf.math.log instead.\n",
      "\n"
     ]
    },
    {
     "name": "stderr",
     "output_type": "stream",
     "text": [
      "WARNING:tensorflow:From /home/giles/anaconda3/lib/python3.6/site-packages/onnx_tf/handlers/backend/log.py:10: The name tf.log is deprecated. Please use tf.math.log instead.\n",
      "\n"
     ]
    },
    {
     "name": "stdout",
     "output_type": "stream",
     "text": [
      "WARNING:tensorflow:From /home/giles/anaconda3/lib/python3.6/site-packages/onnx_tf/handlers/backend/upsample.py:13: The name tf.image.resize_images is deprecated. Please use tf.image.resize instead.\n",
      "\n"
     ]
    },
    {
     "name": "stderr",
     "output_type": "stream",
     "text": [
      "WARNING:tensorflow:From /home/giles/anaconda3/lib/python3.6/site-packages/onnx_tf/handlers/backend/upsample.py:13: The name tf.image.resize_images is deprecated. Please use tf.image.resize instead.\n",
      "\n"
     ]
    },
    {
     "name": "stdout",
     "output_type": "stream",
     "text": [
      "WARNING:tensorflow:From /home/giles/anaconda3/lib/python3.6/site-packages/onnx_tf/handlers/backend/gemm.py:14: flatten (from tensorflow.python.layers.core) is deprecated and will be removed in a future version.\n",
      "Instructions for updating:\n",
      "Use keras.layers.flatten instead.\n"
     ]
    },
    {
     "name": "stderr",
     "output_type": "stream",
     "text": [
      "/home/giles/cernbox/lumin/lumin/nn/models/model.py:399: UserWarning: Tensorflow ProtocolBuffer export of LUMIN models (via ONNX) has not been fully explored or sufficiently tested yet.\n",
      "                         Please use with caution, and report any trouble\n",
      "  Please use with caution, and report any trouble\"\"\")\n",
      "/home/giles/cernbox/lumin/lumin/nn/models/model.py:381: UserWarning: ONNX export of LUMIN models has not been fully explored or sufficiently tested yet.\n",
      "                         Please use with caution, and report any trouble\n",
      "  Please use with caution, and report any trouble\"\"\")\n",
      "/home/giles/anaconda3/lib/python3.6/site-packages/onnx_tf/common/handler_helper.py:37: UserWarning: Unknown op ConstantFill in domain `ai.onnx`.\n",
      "  handler.ONNX_OP, handler.DOMAIN or \"ai.onnx\"))\n",
      "/home/giles/anaconda3/lib/python3.6/site-packages/onnx_tf/common/handler_helper.py:37: UserWarning: Unknown op ImageScaler in domain `ai.onnx`.\n",
      "  handler.ONNX_OP, handler.DOMAIN or \"ai.onnx\"))\n",
      "/home/giles/anaconda3/lib/python3.6/site-packages/onnx_tf/common/handler_helper.py:34: UserWarning: Fail to get since_version of IsInf in domain `` with max_inclusive_version=9. Set to 1.\n",
      "  handler.ONNX_OP, handler.DOMAIN, version))\n",
      "/home/giles/anaconda3/lib/python3.6/site-packages/onnx_tf/common/handler_helper.py:34: UserWarning: Fail to get since_version of Mod in domain `` with max_inclusive_version=9. Set to 1.\n",
      "  handler.ONNX_OP, handler.DOMAIN, version))\n",
      "/home/giles/anaconda3/lib/python3.6/site-packages/onnx_tf/common/handler_helper.py:34: UserWarning: Fail to get since_version of ThresholdedRelu in domain `` with max_inclusive_version=9. Set to 1.\n",
      "  handler.ONNX_OP, handler.DOMAIN, version))\n",
      "WARNING:tensorflow:From /home/giles/anaconda3/lib/python3.6/site-packages/onnx_tf/handlers/backend/gemm.py:14: flatten (from tensorflow.python.layers.core) is deprecated and will be removed in a future version.\n",
      "Instructions for updating:\n",
      "Use keras.layers.flatten instead.\n",
      "/home/giles/cernbox/lumin/lumin/nn/models/model.py:399: UserWarning: Tensorflow ProtocolBuffer export of LUMIN models (via ONNX) has not been fully explored or sufficiently tested yet.\n",
      "                         Please use with caution, and report any trouble\n",
      "  Please use with caution, and report any trouble\"\"\")\n",
      "/home/giles/cernbox/lumin/lumin/nn/models/model.py:381: UserWarning: ONNX export of LUMIN models has not been fully explored or sufficiently tested yet.\n",
      "                         Please use with caution, and report any trouble\n",
      "  Please use with caution, and report any trouble\"\"\")\n",
      "/home/giles/anaconda3/lib/python3.6/site-packages/onnx_tf/common/handler_helper.py:37: UserWarning: Unknown op ConstantFill in domain `ai.onnx`.\n",
      "  handler.ONNX_OP, handler.DOMAIN or \"ai.onnx\"))\n",
      "/home/giles/anaconda3/lib/python3.6/site-packages/onnx_tf/common/handler_helper.py:37: UserWarning: Unknown op ImageScaler in domain `ai.onnx`.\n",
      "  handler.ONNX_OP, handler.DOMAIN or \"ai.onnx\"))\n",
      "/home/giles/anaconda3/lib/python3.6/site-packages/onnx_tf/common/handler_helper.py:34: UserWarning: Fail to get since_version of IsInf in domain `` with max_inclusive_version=9. Set to 1.\n",
      "  handler.ONNX_OP, handler.DOMAIN, version))\n",
      "/home/giles/anaconda3/lib/python3.6/site-packages/onnx_tf/common/handler_helper.py:34: UserWarning: Fail to get since_version of Mod in domain `` with max_inclusive_version=9. Set to 1.\n",
      "  handler.ONNX_OP, handler.DOMAIN, version))\n",
      "/home/giles/anaconda3/lib/python3.6/site-packages/onnx_tf/common/handler_helper.py:34: UserWarning: Fail to get since_version of ThresholdedRelu in domain `` with max_inclusive_version=9. Set to 1.\n",
      "  handler.ONNX_OP, handler.DOMAIN, version))\n",
      "/home/giles/cernbox/lumin/lumin/nn/models/model.py:399: UserWarning: Tensorflow ProtocolBuffer export of LUMIN models (via ONNX) has not been fully explored or sufficiently tested yet.\n",
      "                         Please use with caution, and report any trouble\n",
      "  Please use with caution, and report any trouble\"\"\")\n",
      "/home/giles/cernbox/lumin/lumin/nn/models/model.py:381: UserWarning: ONNX export of LUMIN models has not been fully explored or sufficiently tested yet.\n",
      "                         Please use with caution, and report any trouble\n",
      "  Please use with caution, and report any trouble\"\"\")\n",
      "/home/giles/anaconda3/lib/python3.6/site-packages/onnx_tf/common/handler_helper.py:37: UserWarning: Unknown op ConstantFill in domain `ai.onnx`.\n",
      "  handler.ONNX_OP, handler.DOMAIN or \"ai.onnx\"))\n",
      "/home/giles/anaconda3/lib/python3.6/site-packages/onnx_tf/common/handler_helper.py:37: UserWarning: Unknown op ImageScaler in domain `ai.onnx`.\n",
      "  handler.ONNX_OP, handler.DOMAIN or \"ai.onnx\"))\n",
      "/home/giles/anaconda3/lib/python3.6/site-packages/onnx_tf/common/handler_helper.py:34: UserWarning: Fail to get since_version of IsInf in domain `` with max_inclusive_version=9. Set to 1.\n",
      "  handler.ONNX_OP, handler.DOMAIN, version))\n",
      "/home/giles/anaconda3/lib/python3.6/site-packages/onnx_tf/common/handler_helper.py:34: UserWarning: Fail to get since_version of Mod in domain `` with max_inclusive_version=9. Set to 1.\n",
      "  handler.ONNX_OP, handler.DOMAIN, version))\n",
      "/home/giles/anaconda3/lib/python3.6/site-packages/onnx_tf/common/handler_helper.py:34: UserWarning: Fail to get since_version of ThresholdedRelu in domain `` with max_inclusive_version=9. Set to 1.\n",
      "  handler.ONNX_OP, handler.DOMAIN, version))\n",
      "/home/giles/cernbox/lumin/lumin/nn/models/model.py:399: UserWarning: Tensorflow ProtocolBuffer export of LUMIN models (via ONNX) has not been fully explored or sufficiently tested yet.\n",
      "                         Please use with caution, and report any trouble\n",
      "  Please use with caution, and report any trouble\"\"\")\n",
      "/home/giles/cernbox/lumin/lumin/nn/models/model.py:381: UserWarning: ONNX export of LUMIN models has not been fully explored or sufficiently tested yet.\n",
      "                         Please use with caution, and report any trouble\n",
      "  Please use with caution, and report any trouble\"\"\")\n",
      "/home/giles/anaconda3/lib/python3.6/site-packages/onnx_tf/common/handler_helper.py:37: UserWarning: Unknown op ConstantFill in domain `ai.onnx`.\n",
      "  handler.ONNX_OP, handler.DOMAIN or \"ai.onnx\"))\n",
      "/home/giles/anaconda3/lib/python3.6/site-packages/onnx_tf/common/handler_helper.py:37: UserWarning: Unknown op ImageScaler in domain `ai.onnx`.\n",
      "  handler.ONNX_OP, handler.DOMAIN or \"ai.onnx\"))\n",
      "/home/giles/anaconda3/lib/python3.6/site-packages/onnx_tf/common/handler_helper.py:34: UserWarning: Fail to get since_version of IsInf in domain `` with max_inclusive_version=9. Set to 1.\n",
      "  handler.ONNX_OP, handler.DOMAIN, version))\n",
      "/home/giles/anaconda3/lib/python3.6/site-packages/onnx_tf/common/handler_helper.py:34: UserWarning: Fail to get since_version of Mod in domain `` with max_inclusive_version=9. Set to 1.\n",
      "  handler.ONNX_OP, handler.DOMAIN, version))\n",
      "/home/giles/anaconda3/lib/python3.6/site-packages/onnx_tf/common/handler_helper.py:34: UserWarning: Fail to get since_version of ThresholdedRelu in domain `` with max_inclusive_version=9. Set to 1.\n",
      "  handler.ONNX_OP, handler.DOMAIN, version))\n",
      "/home/giles/cernbox/lumin/lumin/nn/models/model.py:399: UserWarning: Tensorflow ProtocolBuffer export of LUMIN models (via ONNX) has not been fully explored or sufficiently tested yet.\n",
      "                         Please use with caution, and report any trouble\n",
      "  Please use with caution, and report any trouble\"\"\")\n",
      "/home/giles/cernbox/lumin/lumin/nn/models/model.py:381: UserWarning: ONNX export of LUMIN models has not been fully explored or sufficiently tested yet.\n",
      "                         Please use with caution, and report any trouble\n",
      "  Please use with caution, and report any trouble\"\"\")\n",
      "/home/giles/anaconda3/lib/python3.6/site-packages/onnx_tf/common/handler_helper.py:37: UserWarning: Unknown op ConstantFill in domain `ai.onnx`.\n",
      "  handler.ONNX_OP, handler.DOMAIN or \"ai.onnx\"))\n",
      "/home/giles/anaconda3/lib/python3.6/site-packages/onnx_tf/common/handler_helper.py:37: UserWarning: Unknown op ImageScaler in domain `ai.onnx`.\n",
      "  handler.ONNX_OP, handler.DOMAIN or \"ai.onnx\"))\n",
      "/home/giles/anaconda3/lib/python3.6/site-packages/onnx_tf/common/handler_helper.py:34: UserWarning: Fail to get since_version of IsInf in domain `` with max_inclusive_version=9. Set to 1.\n",
      "  handler.ONNX_OP, handler.DOMAIN, version))\n",
      "/home/giles/anaconda3/lib/python3.6/site-packages/onnx_tf/common/handler_helper.py:34: UserWarning: Fail to get since_version of Mod in domain `` with max_inclusive_version=9. Set to 1.\n",
      "  handler.ONNX_OP, handler.DOMAIN, version))\n",
      "/home/giles/anaconda3/lib/python3.6/site-packages/onnx_tf/common/handler_helper.py:34: UserWarning: Fail to get since_version of ThresholdedRelu in domain `` with max_inclusive_version=9. Set to 1.\n",
      "  handler.ONNX_OP, handler.DOMAIN, version))\n"
     ]
    }
   ],
   "source": [
    "ensemble_0.export2tfpb('models/ensemble_0/example_TF')"
   ]
  },
  {
   "cell_type": "code",
   "execution_count": 60,
   "metadata": {
    "scrolled": true
   },
   "outputs": [
    {
     "name": "stderr",
     "output_type": "stream",
     "text": [
      "/home/giles/cernbox/lumin/lumin/nn/models/model.py:399: UserWarning: Tensorflow ProtocolBuffer export of LUMIN models (via ONNX) has not been fully explored or sufficiently tested yet.\n",
      "                         Please use with caution, and report any trouble\n",
      "  Please use with caution, and report any trouble\"\"\")\n",
      "/home/giles/cernbox/lumin/lumin/nn/models/model.py:381: UserWarning: ONNX export of LUMIN models has not been fully explored or sufficiently tested yet.\n",
      "                         Please use with caution, and report any trouble\n",
      "  Please use with caution, and report any trouble\"\"\")\n",
      "/home/giles/anaconda3/lib/python3.6/site-packages/onnx_tf/common/handler_helper.py:37: UserWarning: Unknown op ConstantFill in domain `ai.onnx`.\n",
      "  handler.ONNX_OP, handler.DOMAIN or \"ai.onnx\"))\n",
      "/home/giles/anaconda3/lib/python3.6/site-packages/onnx_tf/common/handler_helper.py:37: UserWarning: Unknown op ImageScaler in domain `ai.onnx`.\n",
      "  handler.ONNX_OP, handler.DOMAIN or \"ai.onnx\"))\n",
      "/home/giles/anaconda3/lib/python3.6/site-packages/onnx_tf/common/handler_helper.py:34: UserWarning: Fail to get since_version of IsInf in domain `` with max_inclusive_version=9. Set to 1.\n",
      "  handler.ONNX_OP, handler.DOMAIN, version))\n",
      "/home/giles/anaconda3/lib/python3.6/site-packages/onnx_tf/common/handler_helper.py:34: UserWarning: Fail to get since_version of Mod in domain `` with max_inclusive_version=9. Set to 1.\n",
      "  handler.ONNX_OP, handler.DOMAIN, version))\n",
      "/home/giles/anaconda3/lib/python3.6/site-packages/onnx_tf/common/handler_helper.py:34: UserWarning: Fail to get since_version of ThresholdedRelu in domain `` with max_inclusive_version=9. Set to 1.\n",
      "  handler.ONNX_OP, handler.DOMAIN, version))\n",
      "/home/giles/cernbox/lumin/lumin/nn/models/model.py:399: UserWarning: Tensorflow ProtocolBuffer export of LUMIN models (via ONNX) has not been fully explored or sufficiently tested yet.\n",
      "                         Please use with caution, and report any trouble\n",
      "  Please use with caution, and report any trouble\"\"\")\n",
      "/home/giles/cernbox/lumin/lumin/nn/models/model.py:381: UserWarning: ONNX export of LUMIN models has not been fully explored or sufficiently tested yet.\n",
      "                         Please use with caution, and report any trouble\n",
      "  Please use with caution, and report any trouble\"\"\")\n",
      "/home/giles/anaconda3/lib/python3.6/site-packages/onnx_tf/common/handler_helper.py:37: UserWarning: Unknown op ConstantFill in domain `ai.onnx`.\n",
      "  handler.ONNX_OP, handler.DOMAIN or \"ai.onnx\"))\n",
      "/home/giles/anaconda3/lib/python3.6/site-packages/onnx_tf/common/handler_helper.py:37: UserWarning: Unknown op ImageScaler in domain `ai.onnx`.\n",
      "  handler.ONNX_OP, handler.DOMAIN or \"ai.onnx\"))\n",
      "/home/giles/anaconda3/lib/python3.6/site-packages/onnx_tf/common/handler_helper.py:34: UserWarning: Fail to get since_version of IsInf in domain `` with max_inclusive_version=9. Set to 1.\n",
      "  handler.ONNX_OP, handler.DOMAIN, version))\n",
      "/home/giles/anaconda3/lib/python3.6/site-packages/onnx_tf/common/handler_helper.py:34: UserWarning: Fail to get since_version of Mod in domain `` with max_inclusive_version=9. Set to 1.\n",
      "  handler.ONNX_OP, handler.DOMAIN, version))\n",
      "/home/giles/anaconda3/lib/python3.6/site-packages/onnx_tf/common/handler_helper.py:34: UserWarning: Fail to get since_version of ThresholdedRelu in domain `` with max_inclusive_version=9. Set to 1.\n",
      "  handler.ONNX_OP, handler.DOMAIN, version))\n",
      "/home/giles/cernbox/lumin/lumin/nn/models/model.py:399: UserWarning: Tensorflow ProtocolBuffer export of LUMIN models (via ONNX) has not been fully explored or sufficiently tested yet.\n",
      "                         Please use with caution, and report any trouble\n",
      "  Please use with caution, and report any trouble\"\"\")\n",
      "/home/giles/cernbox/lumin/lumin/nn/models/model.py:381: UserWarning: ONNX export of LUMIN models has not been fully explored or sufficiently tested yet.\n",
      "                         Please use with caution, and report any trouble\n",
      "  Please use with caution, and report any trouble\"\"\")\n",
      "/home/giles/anaconda3/lib/python3.6/site-packages/onnx_tf/common/handler_helper.py:37: UserWarning: Unknown op ConstantFill in domain `ai.onnx`.\n",
      "  handler.ONNX_OP, handler.DOMAIN or \"ai.onnx\"))\n",
      "/home/giles/anaconda3/lib/python3.6/site-packages/onnx_tf/common/handler_helper.py:37: UserWarning: Unknown op ImageScaler in domain `ai.onnx`.\n",
      "  handler.ONNX_OP, handler.DOMAIN or \"ai.onnx\"))\n",
      "/home/giles/anaconda3/lib/python3.6/site-packages/onnx_tf/common/handler_helper.py:34: UserWarning: Fail to get since_version of IsInf in domain `` with max_inclusive_version=9. Set to 1.\n",
      "  handler.ONNX_OP, handler.DOMAIN, version))\n",
      "/home/giles/anaconda3/lib/python3.6/site-packages/onnx_tf/common/handler_helper.py:34: UserWarning: Fail to get since_version of Mod in domain `` with max_inclusive_version=9. Set to 1.\n",
      "  handler.ONNX_OP, handler.DOMAIN, version))\n",
      "/home/giles/anaconda3/lib/python3.6/site-packages/onnx_tf/common/handler_helper.py:34: UserWarning: Fail to get since_version of ThresholdedRelu in domain `` with max_inclusive_version=9. Set to 1.\n",
      "  handler.ONNX_OP, handler.DOMAIN, version))\n",
      "/home/giles/cernbox/lumin/lumin/nn/models/model.py:399: UserWarning: Tensorflow ProtocolBuffer export of LUMIN models (via ONNX) has not been fully explored or sufficiently tested yet.\n",
      "                         Please use with caution, and report any trouble\n",
      "  Please use with caution, and report any trouble\"\"\")\n",
      "/home/giles/cernbox/lumin/lumin/nn/models/model.py:381: UserWarning: ONNX export of LUMIN models has not been fully explored or sufficiently tested yet.\n",
      "                         Please use with caution, and report any trouble\n",
      "  Please use with caution, and report any trouble\"\"\")\n",
      "/home/giles/anaconda3/lib/python3.6/site-packages/onnx_tf/common/handler_helper.py:37: UserWarning: Unknown op ConstantFill in domain `ai.onnx`.\n",
      "  handler.ONNX_OP, handler.DOMAIN or \"ai.onnx\"))\n",
      "/home/giles/anaconda3/lib/python3.6/site-packages/onnx_tf/common/handler_helper.py:37: UserWarning: Unknown op ImageScaler in domain `ai.onnx`.\n",
      "  handler.ONNX_OP, handler.DOMAIN or \"ai.onnx\"))\n",
      "/home/giles/anaconda3/lib/python3.6/site-packages/onnx_tf/common/handler_helper.py:34: UserWarning: Fail to get since_version of IsInf in domain `` with max_inclusive_version=9. Set to 1.\n",
      "  handler.ONNX_OP, handler.DOMAIN, version))\n",
      "/home/giles/anaconda3/lib/python3.6/site-packages/onnx_tf/common/handler_helper.py:34: UserWarning: Fail to get since_version of Mod in domain `` with max_inclusive_version=9. Set to 1.\n",
      "  handler.ONNX_OP, handler.DOMAIN, version))\n",
      "/home/giles/anaconda3/lib/python3.6/site-packages/onnx_tf/common/handler_helper.py:34: UserWarning: Fail to get since_version of ThresholdedRelu in domain `` with max_inclusive_version=9. Set to 1.\n",
      "  handler.ONNX_OP, handler.DOMAIN, version))\n",
      "/home/giles/cernbox/lumin/lumin/nn/models/model.py:399: UserWarning: Tensorflow ProtocolBuffer export of LUMIN models (via ONNX) has not been fully explored or sufficiently tested yet.\n",
      "                         Please use with caution, and report any trouble\n",
      "  Please use with caution, and report any trouble\"\"\")\n",
      "/home/giles/cernbox/lumin/lumin/nn/models/model.py:381: UserWarning: ONNX export of LUMIN models has not been fully explored or sufficiently tested yet.\n",
      "                         Please use with caution, and report any trouble\n",
      "  Please use with caution, and report any trouble\"\"\")\n",
      "/home/giles/anaconda3/lib/python3.6/site-packages/onnx_tf/common/handler_helper.py:37: UserWarning: Unknown op ConstantFill in domain `ai.onnx`.\n",
      "  handler.ONNX_OP, handler.DOMAIN or \"ai.onnx\"))\n",
      "/home/giles/anaconda3/lib/python3.6/site-packages/onnx_tf/common/handler_helper.py:37: UserWarning: Unknown op ImageScaler in domain `ai.onnx`.\n",
      "  handler.ONNX_OP, handler.DOMAIN or \"ai.onnx\"))\n",
      "/home/giles/anaconda3/lib/python3.6/site-packages/onnx_tf/common/handler_helper.py:34: UserWarning: Fail to get since_version of IsInf in domain `` with max_inclusive_version=9. Set to 1.\n",
      "  handler.ONNX_OP, handler.DOMAIN, version))\n",
      "/home/giles/anaconda3/lib/python3.6/site-packages/onnx_tf/common/handler_helper.py:34: UserWarning: Fail to get since_version of Mod in domain `` with max_inclusive_version=9. Set to 1.\n",
      "  handler.ONNX_OP, handler.DOMAIN, version))\n",
      "/home/giles/anaconda3/lib/python3.6/site-packages/onnx_tf/common/handler_helper.py:34: UserWarning: Fail to get since_version of ThresholdedRelu in domain `` with max_inclusive_version=9. Set to 1.\n",
      "  handler.ONNX_OP, handler.DOMAIN, version))\n"
     ]
    }
   ],
   "source": [
    "ensemble_1.export2tfpb('models/ensemble_1/example_TF')"
   ]
  },
  {
   "cell_type": "markdown",
   "metadata": {},
   "source": [
    "## Testing data\n",
    "Save example input data and model predictions to CSV to check TF scores later"
   ]
  },
  {
   "cell_type": "code",
   "execution_count": 117,
   "metadata": {},
   "outputs": [
    {
     "name": "stdout",
     "output_type": "stream",
     "text": [
      "12503 datapoints loaded\n",
      "12504 datapoints loaded\n"
     ]
    }
   ],
   "source": [
    "test_0_df = train_0_fy.get_df(n_folds=1, inc_inputs=True, deprocess=True, suppress_warn=True)\n",
    "test_1_df = train_1_fy.get_df(n_folds=1, inc_inputs=True, deprocess=True, suppress_warn=True)"
   ]
  },
  {
   "cell_type": "code",
   "execution_count": 118,
   "metadata": {},
   "outputs": [
    {
     "data": {
      "text/html": [
       "<div>\n",
       "<style scoped>\n",
       "    .dataframe tbody tr th:only-of-type {\n",
       "        vertical-align: middle;\n",
       "    }\n",
       "\n",
       "    .dataframe tbody tr th {\n",
       "        vertical-align: top;\n",
       "    }\n",
       "\n",
       "    .dataframe thead th {\n",
       "        text-align: right;\n",
       "    }\n",
       "</style>\n",
       "<table border=\"1\" class=\"dataframe\">\n",
       "  <thead>\n",
       "    <tr style=\"text-align: right;\">\n",
       "      <th></th>\n",
       "      <th>DER_mass_MMC</th>\n",
       "      <th>DER_mass_transverse_met_lep</th>\n",
       "      <th>DER_mass_vis</th>\n",
       "      <th>DER_pt_h</th>\n",
       "      <th>DER_deltaeta_jet_jet</th>\n",
       "      <th>DER_mass_jet_jet</th>\n",
       "      <th>DER_prodeta_jet_jet</th>\n",
       "      <th>DER_deltar_tau_lep</th>\n",
       "      <th>DER_pt_tot</th>\n",
       "      <th>DER_sum_pt</th>\n",
       "      <th>...</th>\n",
       "      <th>PRI_met_px</th>\n",
       "      <th>PRI_met_py</th>\n",
       "      <th>PRI_jet_leading_px</th>\n",
       "      <th>PRI_jet_leading_py</th>\n",
       "      <th>PRI_jet_leading_pz</th>\n",
       "      <th>PRI_met_pt</th>\n",
       "      <th>PRI_jet_num</th>\n",
       "      <th>gen_target</th>\n",
       "      <th>gen_weight</th>\n",
       "      <th>pred</th>\n",
       "    </tr>\n",
       "  </thead>\n",
       "  <tbody>\n",
       "    <tr>\n",
       "      <td>0</td>\n",
       "      <td>122.546997</td>\n",
       "      <td>149.662994</td>\n",
       "      <td>100.791000</td>\n",
       "      <td>75.220001</td>\n",
       "      <td>1.639</td>\n",
       "      <td>77.918999</td>\n",
       "      <td>0.26</td>\n",
       "      <td>2.110</td>\n",
       "      <td>2.547000</td>\n",
       "      <td>235.188995</td>\n",
       "      <td>...</td>\n",
       "      <td>-43.287960</td>\n",
       "      <td>-3.017397</td>\n",
       "      <td>-36.826267</td>\n",
       "      <td>-22.659153</td>\n",
       "      <td>6.335347</td>\n",
       "      <td>43.393002</td>\n",
       "      <td>2.0</td>\n",
       "      <td>0.0</td>\n",
       "      <td>0.000011</td>\n",
       "      <td>0.172882</td>\n",
       "    </tr>\n",
       "    <tr>\n",
       "      <td>1</td>\n",
       "      <td>NaN</td>\n",
       "      <td>95.788002</td>\n",
       "      <td>85.100998</td>\n",
       "      <td>0.276999</td>\n",
       "      <td>NaN</td>\n",
       "      <td>NaN</td>\n",
       "      <td>NaN</td>\n",
       "      <td>2.468</td>\n",
       "      <td>0.277001</td>\n",
       "      <td>70.348000</td>\n",
       "      <td>...</td>\n",
       "      <td>-45.766418</td>\n",
       "      <td>-22.765770</td>\n",
       "      <td>NaN</td>\n",
       "      <td>NaN</td>\n",
       "      <td>NaN</td>\n",
       "      <td>51.116001</td>\n",
       "      <td>0.0</td>\n",
       "      <td>0.0</td>\n",
       "      <td>0.000029</td>\n",
       "      <td>0.004077</td>\n",
       "    </tr>\n",
       "    <tr>\n",
       "      <td>2</td>\n",
       "      <td>196.815994</td>\n",
       "      <td>127.403008</td>\n",
       "      <td>110.839996</td>\n",
       "      <td>31.478998</td>\n",
       "      <td>NaN</td>\n",
       "      <td>NaN</td>\n",
       "      <td>NaN</td>\n",
       "      <td>3.275</td>\n",
       "      <td>31.479000</td>\n",
       "      <td>95.354996</td>\n",
       "      <td>...</td>\n",
       "      <td>-51.839977</td>\n",
       "      <td>-37.512783</td>\n",
       "      <td>NaN</td>\n",
       "      <td>NaN</td>\n",
       "      <td>NaN</td>\n",
       "      <td>63.988998</td>\n",
       "      <td>0.0</td>\n",
       "      <td>0.0</td>\n",
       "      <td>0.000013</td>\n",
       "      <td>0.012313</td>\n",
       "    </tr>\n",
       "    <tr>\n",
       "      <td>3</td>\n",
       "      <td>118.553001</td>\n",
       "      <td>8.794999</td>\n",
       "      <td>88.586998</td>\n",
       "      <td>0.276999</td>\n",
       "      <td>NaN</td>\n",
       "      <td>NaN</td>\n",
       "      <td>NaN</td>\n",
       "      <td>3.428</td>\n",
       "      <td>0.277001</td>\n",
       "      <td>67.185997</td>\n",
       "      <td>...</td>\n",
       "      <td>4.545721</td>\n",
       "      <td>-3.573227</td>\n",
       "      <td>NaN</td>\n",
       "      <td>NaN</td>\n",
       "      <td>NaN</td>\n",
       "      <td>5.781999</td>\n",
       "      <td>0.0</td>\n",
       "      <td>1.0</td>\n",
       "      <td>0.000054</td>\n",
       "      <td>0.942198</td>\n",
       "    </tr>\n",
       "    <tr>\n",
       "      <td>4</td>\n",
       "      <td>NaN</td>\n",
       "      <td>102.959000</td>\n",
       "      <td>67.404999</td>\n",
       "      <td>18.601999</td>\n",
       "      <td>NaN</td>\n",
       "      <td>NaN</td>\n",
       "      <td>NaN</td>\n",
       "      <td>2.269</td>\n",
       "      <td>18.601999</td>\n",
       "      <td>79.955994</td>\n",
       "      <td>...</td>\n",
       "      <td>-38.817169</td>\n",
       "      <td>-35.401390</td>\n",
       "      <td>NaN</td>\n",
       "      <td>NaN</td>\n",
       "      <td>NaN</td>\n",
       "      <td>52.535999</td>\n",
       "      <td>0.0</td>\n",
       "      <td>0.0</td>\n",
       "      <td>0.000025</td>\n",
       "      <td>0.004996</td>\n",
       "    </tr>\n",
       "  </tbody>\n",
       "</table>\n",
       "<p>5 rows × 33 columns</p>\n",
       "</div>"
      ],
      "text/plain": [
       "   DER_mass_MMC  DER_mass_transverse_met_lep  DER_mass_vis   DER_pt_h  \\\n",
       "0    122.546997                   149.662994    100.791000  75.220001   \n",
       "1           NaN                    95.788002     85.100998   0.276999   \n",
       "2    196.815994                   127.403008    110.839996  31.478998   \n",
       "3    118.553001                     8.794999     88.586998   0.276999   \n",
       "4           NaN                   102.959000     67.404999  18.601999   \n",
       "\n",
       "   DER_deltaeta_jet_jet  DER_mass_jet_jet  DER_prodeta_jet_jet  \\\n",
       "0                 1.639         77.918999                 0.26   \n",
       "1                   NaN               NaN                  NaN   \n",
       "2                   NaN               NaN                  NaN   \n",
       "3                   NaN               NaN                  NaN   \n",
       "4                   NaN               NaN                  NaN   \n",
       "\n",
       "   DER_deltar_tau_lep  DER_pt_tot  DER_sum_pt  ...  PRI_met_px  PRI_met_py  \\\n",
       "0               2.110    2.547000  235.188995  ...  -43.287960   -3.017397   \n",
       "1               2.468    0.277001   70.348000  ...  -45.766418  -22.765770   \n",
       "2               3.275   31.479000   95.354996  ...  -51.839977  -37.512783   \n",
       "3               3.428    0.277001   67.185997  ...    4.545721   -3.573227   \n",
       "4               2.269   18.601999   79.955994  ...  -38.817169  -35.401390   \n",
       "\n",
       "   PRI_jet_leading_px  PRI_jet_leading_py  PRI_jet_leading_pz  PRI_met_pt  \\\n",
       "0          -36.826267          -22.659153            6.335347   43.393002   \n",
       "1                 NaN                 NaN                 NaN   51.116001   \n",
       "2                 NaN                 NaN                 NaN   63.988998   \n",
       "3                 NaN                 NaN                 NaN    5.781999   \n",
       "4                 NaN                 NaN                 NaN   52.535999   \n",
       "\n",
       "   PRI_jet_num  gen_target  gen_weight      pred  \n",
       "0          2.0         0.0    0.000011  0.172882  \n",
       "1          0.0         0.0    0.000029  0.004077  \n",
       "2          0.0         0.0    0.000013  0.012313  \n",
       "3          0.0         1.0    0.000054  0.942198  \n",
       "4          0.0         0.0    0.000025  0.004996  \n",
       "\n",
       "[5 rows x 33 columns]"
      ]
     },
     "execution_count": 118,
     "metadata": {},
     "output_type": "execute_result"
    }
   ],
   "source": [
    "test_0_df.head()"
   ]
  },
  {
   "cell_type": "markdown",
   "metadata": {},
   "source": [
    "### Get predictions"
   ]
  },
  {
   "cell_type": "markdown",
   "metadata": {},
   "source": [
    "Preprocess with opposite inputpipe"
   ]
  },
  {
   "cell_type": "code",
   "execution_count": 119,
   "metadata": {},
   "outputs": [],
   "source": [
    "test_0_df[cont_feats] = train_1_fy.input_pipe.transform(test_0_df[cont_feats])\n",
    "test_1_df[cont_feats] = train_0_fy.input_pipe.transform(test_1_df[cont_feats])"
   ]
  },
  {
   "cell_type": "code",
   "execution_count": 120,
   "metadata": {},
   "outputs": [
    {
     "data": {
      "text/html": [
       "<div>\n",
       "<style scoped>\n",
       "    .dataframe tbody tr th:only-of-type {\n",
       "        vertical-align: middle;\n",
       "    }\n",
       "\n",
       "    .dataframe tbody tr th {\n",
       "        vertical-align: top;\n",
       "    }\n",
       "\n",
       "    .dataframe thead th {\n",
       "        text-align: right;\n",
       "    }\n",
       "</style>\n",
       "<table border=\"1\" class=\"dataframe\">\n",
       "  <thead>\n",
       "    <tr style=\"text-align: right;\">\n",
       "      <th></th>\n",
       "      <th>DER_mass_MMC</th>\n",
       "      <th>DER_mass_transverse_met_lep</th>\n",
       "      <th>DER_mass_vis</th>\n",
       "      <th>DER_pt_h</th>\n",
       "      <th>DER_deltaeta_jet_jet</th>\n",
       "      <th>DER_mass_jet_jet</th>\n",
       "      <th>DER_prodeta_jet_jet</th>\n",
       "      <th>DER_deltar_tau_lep</th>\n",
       "      <th>DER_pt_tot</th>\n",
       "      <th>DER_sum_pt</th>\n",
       "      <th>...</th>\n",
       "      <th>PRI_met_px</th>\n",
       "      <th>PRI_met_py</th>\n",
       "      <th>PRI_jet_leading_px</th>\n",
       "      <th>PRI_jet_leading_py</th>\n",
       "      <th>PRI_jet_leading_pz</th>\n",
       "      <th>PRI_met_pt</th>\n",
       "      <th>PRI_jet_num</th>\n",
       "      <th>gen_target</th>\n",
       "      <th>gen_weight</th>\n",
       "      <th>pred</th>\n",
       "    </tr>\n",
       "  </thead>\n",
       "  <tbody>\n",
       "    <tr>\n",
       "      <td>0</td>\n",
       "      <td>0.013862</td>\n",
       "      <td>2.837014</td>\n",
       "      <td>0.483991</td>\n",
       "      <td>0.266223</td>\n",
       "      <td>-0.439799</td>\n",
       "      <td>-0.739666</td>\n",
       "      <td>0.30115</td>\n",
       "      <td>-0.334993</td>\n",
       "      <td>-0.710703</td>\n",
       "      <td>0.657493</td>\n",
       "      <td>...</td>\n",
       "      <td>-1.042896</td>\n",
       "      <td>-0.065411</td>\n",
       "      <td>0.224752</td>\n",
       "      <td>0.130881</td>\n",
       "      <td>-0.144154</td>\n",
       "      <td>0.047799</td>\n",
       "      <td>2.0</td>\n",
       "      <td>0.0</td>\n",
       "      <td>0.000011</td>\n",
       "      <td>0.172882</td>\n",
       "    </tr>\n",
       "    <tr>\n",
       "      <td>1</td>\n",
       "      <td>NaN</td>\n",
       "      <td>1.315227</td>\n",
       "      <td>0.097352</td>\n",
       "      <td>-0.899206</td>\n",
       "      <td>NaN</td>\n",
       "      <td>NaN</td>\n",
       "      <td>NaN</td>\n",
       "      <td>0.121549</td>\n",
       "      <td>-0.809018</td>\n",
       "      <td>-0.759115</td>\n",
       "      <td>...</td>\n",
       "      <td>-1.097925</td>\n",
       "      <td>-0.748405</td>\n",
       "      <td>NaN</td>\n",
       "      <td>NaN</td>\n",
       "      <td>NaN</td>\n",
       "      <td>0.277189</td>\n",
       "      <td>0.0</td>\n",
       "      <td>0.0</td>\n",
       "      <td>0.000029</td>\n",
       "      <td>0.004077</td>\n",
       "    </tr>\n",
       "    <tr>\n",
       "      <td>2</td>\n",
       "      <td>1.321435</td>\n",
       "      <td>2.208245</td>\n",
       "      <td>0.731623</td>\n",
       "      <td>-0.413987</td>\n",
       "      <td>NaN</td>\n",
       "      <td>NaN</td>\n",
       "      <td>NaN</td>\n",
       "      <td>1.150681</td>\n",
       "      <td>0.542354</td>\n",
       "      <td>-0.544210</td>\n",
       "      <td>...</td>\n",
       "      <td>-1.232777</td>\n",
       "      <td>-1.258428</td>\n",
       "      <td>NaN</td>\n",
       "      <td>NaN</td>\n",
       "      <td>NaN</td>\n",
       "      <td>0.659547</td>\n",
       "      <td>0.0</td>\n",
       "      <td>0.0</td>\n",
       "      <td>0.000013</td>\n",
       "      <td>0.012313</td>\n",
       "    </tr>\n",
       "    <tr>\n",
       "      <td>3</td>\n",
       "      <td>-0.056456</td>\n",
       "      <td>-1.142033</td>\n",
       "      <td>0.183255</td>\n",
       "      <td>-0.899206</td>\n",
       "      <td>NaN</td>\n",
       "      <td>NaN</td>\n",
       "      <td>NaN</td>\n",
       "      <td>1.345796</td>\n",
       "      <td>-0.809018</td>\n",
       "      <td>-0.786288</td>\n",
       "      <td>...</td>\n",
       "      <td>0.019157</td>\n",
       "      <td>-0.084634</td>\n",
       "      <td>NaN</td>\n",
       "      <td>NaN</td>\n",
       "      <td>NaN</td>\n",
       "      <td>-1.069334</td>\n",
       "      <td>0.0</td>\n",
       "      <td>1.0</td>\n",
       "      <td>0.000054</td>\n",
       "      <td>0.942198</td>\n",
       "    </tr>\n",
       "    <tr>\n",
       "      <td>4</td>\n",
       "      <td>NaN</td>\n",
       "      <td>1.517784</td>\n",
       "      <td>-0.338720</td>\n",
       "      <td>-0.614236</td>\n",
       "      <td>NaN</td>\n",
       "      <td>NaN</td>\n",
       "      <td>NaN</td>\n",
       "      <td>-0.132227</td>\n",
       "      <td>-0.015355</td>\n",
       "      <td>-0.676546</td>\n",
       "      <td>...</td>\n",
       "      <td>-0.943631</td>\n",
       "      <td>-1.185406</td>\n",
       "      <td>NaN</td>\n",
       "      <td>NaN</td>\n",
       "      <td>NaN</td>\n",
       "      <td>0.319367</td>\n",
       "      <td>0.0</td>\n",
       "      <td>0.0</td>\n",
       "      <td>0.000025</td>\n",
       "      <td>0.004996</td>\n",
       "    </tr>\n",
       "  </tbody>\n",
       "</table>\n",
       "<p>5 rows × 33 columns</p>\n",
       "</div>"
      ],
      "text/plain": [
       "   DER_mass_MMC  DER_mass_transverse_met_lep  DER_mass_vis  DER_pt_h  \\\n",
       "0      0.013862                     2.837014      0.483991  0.266223   \n",
       "1           NaN                     1.315227      0.097352 -0.899206   \n",
       "2      1.321435                     2.208245      0.731623 -0.413987   \n",
       "3     -0.056456                    -1.142033      0.183255 -0.899206   \n",
       "4           NaN                     1.517784     -0.338720 -0.614236   \n",
       "\n",
       "   DER_deltaeta_jet_jet  DER_mass_jet_jet  DER_prodeta_jet_jet  \\\n",
       "0             -0.439799         -0.739666              0.30115   \n",
       "1                   NaN               NaN                  NaN   \n",
       "2                   NaN               NaN                  NaN   \n",
       "3                   NaN               NaN                  NaN   \n",
       "4                   NaN               NaN                  NaN   \n",
       "\n",
       "   DER_deltar_tau_lep  DER_pt_tot  DER_sum_pt  ...  PRI_met_px  PRI_met_py  \\\n",
       "0           -0.334993   -0.710703    0.657493  ...   -1.042896   -0.065411   \n",
       "1            0.121549   -0.809018   -0.759115  ...   -1.097925   -0.748405   \n",
       "2            1.150681    0.542354   -0.544210  ...   -1.232777   -1.258428   \n",
       "3            1.345796   -0.809018   -0.786288  ...    0.019157   -0.084634   \n",
       "4           -0.132227   -0.015355   -0.676546  ...   -0.943631   -1.185406   \n",
       "\n",
       "   PRI_jet_leading_px  PRI_jet_leading_py  PRI_jet_leading_pz  PRI_met_pt  \\\n",
       "0            0.224752            0.130881           -0.144154    0.047799   \n",
       "1                 NaN                 NaN                 NaN    0.277189   \n",
       "2                 NaN                 NaN                 NaN    0.659547   \n",
       "3                 NaN                 NaN                 NaN   -1.069334   \n",
       "4                 NaN                 NaN                 NaN    0.319367   \n",
       "\n",
       "   PRI_jet_num  gen_target  gen_weight      pred  \n",
       "0          2.0         0.0    0.000011  0.172882  \n",
       "1          0.0         0.0    0.000029  0.004077  \n",
       "2          0.0         0.0    0.000013  0.012313  \n",
       "3          0.0         1.0    0.000054  0.942198  \n",
       "4          0.0         0.0    0.000025  0.004996  \n",
       "\n",
       "[5 rows x 33 columns]"
      ]
     },
     "execution_count": 120,
     "metadata": {},
     "output_type": "execute_result"
    }
   ],
   "source": [
    "test_0_df.head()"
   ]
  },
  {
   "cell_type": "markdown",
   "metadata": {},
   "source": [
    "Predict using opposite ensemble"
   ]
  },
  {
   "cell_type": "code",
   "execution_count": 123,
   "metadata": {},
   "outputs": [
    {
     "data": {
      "text/html": [
       "\n",
       "    <div>\n",
       "        <style>\n",
       "            /* Turns off some styling */\n",
       "            progress {\n",
       "                /* gets rid of default border in Firefox and Opera. */\n",
       "                border: none;\n",
       "                /* Needs to be in here for Safari polyfill so background images work as expected. */\n",
       "                background-size: auto;\n",
       "            }\n",
       "            .progress-bar-interrupted, .progress-bar-interrupted::-webkit-progress-bar {\n",
       "                background: #F44336;\n",
       "            }\n",
       "        </style>\n",
       "      <progress value='5' class='' max='5', style='width:300px; height:20px; vertical-align: middle;'></progress>\n",
       "      100.00% [5/5 00:00<00:00]\n",
       "    </div>\n",
       "    "
      ],
      "text/plain": [
       "<IPython.core.display.HTML object>"
      ]
     },
     "metadata": {},
     "output_type": "display_data"
    },
    {
     "data": {
      "text/html": [
       "\n",
       "    <div>\n",
       "        <style>\n",
       "            /* Turns off some styling */\n",
       "            progress {\n",
       "                /* gets rid of default border in Firefox and Opera. */\n",
       "                border: none;\n",
       "                /* Needs to be in here for Safari polyfill so background images work as expected. */\n",
       "                background-size: auto;\n",
       "            }\n",
       "            .progress-bar-interrupted, .progress-bar-interrupted::-webkit-progress-bar {\n",
       "                background: #F44336;\n",
       "            }\n",
       "        </style>\n",
       "      <progress value='5' class='' max='5', style='width:300px; height:20px; vertical-align: middle;'></progress>\n",
       "      100.00% [5/5 00:00<00:00]\n",
       "    </div>\n",
       "    "
      ],
      "text/plain": [
       "<IPython.core.display.HTML object>"
      ]
     },
     "metadata": {},
     "output_type": "display_data"
    }
   ],
   "source": [
    "test_0_df['pred'] = ensemble_1.predict(np.nan_to_num(test_0_df[train_feats].values))\n",
    "test_1_df['pred'] = ensemble_0.predict(np.nan_to_num(test_1_df[train_feats].values))"
   ]
  },
  {
   "cell_type": "code",
   "execution_count": 124,
   "metadata": {},
   "outputs": [
    {
     "data": {
      "text/html": [
       "<div>\n",
       "<style scoped>\n",
       "    .dataframe tbody tr th:only-of-type {\n",
       "        vertical-align: middle;\n",
       "    }\n",
       "\n",
       "    .dataframe tbody tr th {\n",
       "        vertical-align: top;\n",
       "    }\n",
       "\n",
       "    .dataframe thead th {\n",
       "        text-align: right;\n",
       "    }\n",
       "</style>\n",
       "<table border=\"1\" class=\"dataframe\">\n",
       "  <thead>\n",
       "    <tr style=\"text-align: right;\">\n",
       "      <th></th>\n",
       "      <th>DER_mass_MMC</th>\n",
       "      <th>DER_mass_transverse_met_lep</th>\n",
       "      <th>DER_mass_vis</th>\n",
       "      <th>DER_pt_h</th>\n",
       "      <th>DER_deltaeta_jet_jet</th>\n",
       "      <th>DER_mass_jet_jet</th>\n",
       "      <th>DER_prodeta_jet_jet</th>\n",
       "      <th>DER_deltar_tau_lep</th>\n",
       "      <th>DER_pt_tot</th>\n",
       "      <th>DER_sum_pt</th>\n",
       "      <th>...</th>\n",
       "      <th>PRI_met_py</th>\n",
       "      <th>PRI_jet_leading_px</th>\n",
       "      <th>PRI_jet_leading_py</th>\n",
       "      <th>PRI_jet_leading_pz</th>\n",
       "      <th>PRI_met_pt</th>\n",
       "      <th>PRI_jet_num</th>\n",
       "      <th>gen_target</th>\n",
       "      <th>gen_weight</th>\n",
       "      <th>pred</th>\n",
       "      <th>pred_n</th>\n",
       "    </tr>\n",
       "  </thead>\n",
       "  <tbody>\n",
       "    <tr>\n",
       "      <td>0</td>\n",
       "      <td>0.013862</td>\n",
       "      <td>2.837014</td>\n",
       "      <td>0.483991</td>\n",
       "      <td>0.266223</td>\n",
       "      <td>-0.439799</td>\n",
       "      <td>-0.739666</td>\n",
       "      <td>0.301150</td>\n",
       "      <td>-0.334993</td>\n",
       "      <td>-0.710703</td>\n",
       "      <td>0.657493</td>\n",
       "      <td>...</td>\n",
       "      <td>-0.065411</td>\n",
       "      <td>0.224752</td>\n",
       "      <td>0.130881</td>\n",
       "      <td>-0.144154</td>\n",
       "      <td>0.047799</td>\n",
       "      <td>2.0</td>\n",
       "      <td>0.0</td>\n",
       "      <td>0.000011</td>\n",
       "      <td>0.284102</td>\n",
       "      <td>0.175932</td>\n",
       "    </tr>\n",
       "    <tr>\n",
       "      <td>1</td>\n",
       "      <td>NaN</td>\n",
       "      <td>1.315227</td>\n",
       "      <td>0.097352</td>\n",
       "      <td>-0.899206</td>\n",
       "      <td>NaN</td>\n",
       "      <td>NaN</td>\n",
       "      <td>NaN</td>\n",
       "      <td>0.121549</td>\n",
       "      <td>-0.809018</td>\n",
       "      <td>-0.759115</td>\n",
       "      <td>...</td>\n",
       "      <td>-0.748405</td>\n",
       "      <td>NaN</td>\n",
       "      <td>NaN</td>\n",
       "      <td>NaN</td>\n",
       "      <td>0.277189</td>\n",
       "      <td>0.0</td>\n",
       "      <td>0.0</td>\n",
       "      <td>0.000029</td>\n",
       "      <td>0.005186</td>\n",
       "      <td>0.003996</td>\n",
       "    </tr>\n",
       "    <tr>\n",
       "      <td>2</td>\n",
       "      <td>1.321435</td>\n",
       "      <td>2.208245</td>\n",
       "      <td>0.731623</td>\n",
       "      <td>-0.413987</td>\n",
       "      <td>NaN</td>\n",
       "      <td>NaN</td>\n",
       "      <td>NaN</td>\n",
       "      <td>1.150681</td>\n",
       "      <td>0.542354</td>\n",
       "      <td>-0.544210</td>\n",
       "      <td>...</td>\n",
       "      <td>-1.258428</td>\n",
       "      <td>NaN</td>\n",
       "      <td>NaN</td>\n",
       "      <td>NaN</td>\n",
       "      <td>0.659547</td>\n",
       "      <td>0.0</td>\n",
       "      <td>0.0</td>\n",
       "      <td>0.000013</td>\n",
       "      <td>0.071341</td>\n",
       "      <td>0.011893</td>\n",
       "    </tr>\n",
       "    <tr>\n",
       "      <td>3</td>\n",
       "      <td>-0.056456</td>\n",
       "      <td>-1.142033</td>\n",
       "      <td>0.183255</td>\n",
       "      <td>-0.899206</td>\n",
       "      <td>NaN</td>\n",
       "      <td>NaN</td>\n",
       "      <td>NaN</td>\n",
       "      <td>1.345796</td>\n",
       "      <td>-0.809018</td>\n",
       "      <td>-0.786288</td>\n",
       "      <td>...</td>\n",
       "      <td>-0.084634</td>\n",
       "      <td>NaN</td>\n",
       "      <td>NaN</td>\n",
       "      <td>NaN</td>\n",
       "      <td>-1.069334</td>\n",
       "      <td>0.0</td>\n",
       "      <td>1.0</td>\n",
       "      <td>0.000054</td>\n",
       "      <td>0.950550</td>\n",
       "      <td>0.940631</td>\n",
       "    </tr>\n",
       "    <tr>\n",
       "      <td>4</td>\n",
       "      <td>NaN</td>\n",
       "      <td>1.517784</td>\n",
       "      <td>-0.338720</td>\n",
       "      <td>-0.614236</td>\n",
       "      <td>NaN</td>\n",
       "      <td>NaN</td>\n",
       "      <td>NaN</td>\n",
       "      <td>-0.132227</td>\n",
       "      <td>-0.015355</td>\n",
       "      <td>-0.676546</td>\n",
       "      <td>...</td>\n",
       "      <td>-1.185406</td>\n",
       "      <td>NaN</td>\n",
       "      <td>NaN</td>\n",
       "      <td>NaN</td>\n",
       "      <td>0.319367</td>\n",
       "      <td>0.0</td>\n",
       "      <td>0.0</td>\n",
       "      <td>0.000025</td>\n",
       "      <td>0.010647</td>\n",
       "      <td>0.005195</td>\n",
       "    </tr>\n",
       "    <tr>\n",
       "      <td>...</td>\n",
       "      <td>...</td>\n",
       "      <td>...</td>\n",
       "      <td>...</td>\n",
       "      <td>...</td>\n",
       "      <td>...</td>\n",
       "      <td>...</td>\n",
       "      <td>...</td>\n",
       "      <td>...</td>\n",
       "      <td>...</td>\n",
       "      <td>...</td>\n",
       "      <td>...</td>\n",
       "      <td>...</td>\n",
       "      <td>...</td>\n",
       "      <td>...</td>\n",
       "      <td>...</td>\n",
       "      <td>...</td>\n",
       "      <td>...</td>\n",
       "      <td>...</td>\n",
       "      <td>...</td>\n",
       "      <td>...</td>\n",
       "      <td>...</td>\n",
       "    </tr>\n",
       "    <tr>\n",
       "      <td>12498</td>\n",
       "      <td>-0.635021</td>\n",
       "      <td>-0.954108</td>\n",
       "      <td>-0.424722</td>\n",
       "      <td>-0.189946</td>\n",
       "      <td>NaN</td>\n",
       "      <td>NaN</td>\n",
       "      <td>NaN</td>\n",
       "      <td>0.101144</td>\n",
       "      <td>-0.641277</td>\n",
       "      <td>-0.326538</td>\n",
       "      <td>...</td>\n",
       "      <td>0.181120</td>\n",
       "      <td>0.130592</td>\n",
       "      <td>0.318401</td>\n",
       "      <td>-2.767573</td>\n",
       "      <td>-1.093452</td>\n",
       "      <td>1.0</td>\n",
       "      <td>0.0</td>\n",
       "      <td>0.000011</td>\n",
       "      <td>0.796656</td>\n",
       "      <td>0.651094</td>\n",
       "    </tr>\n",
       "    <tr>\n",
       "      <td>12499</td>\n",
       "      <td>NaN</td>\n",
       "      <td>2.555028</td>\n",
       "      <td>0.027885</td>\n",
       "      <td>-0.300730</td>\n",
       "      <td>NaN</td>\n",
       "      <td>NaN</td>\n",
       "      <td>NaN</td>\n",
       "      <td>-0.837445</td>\n",
       "      <td>0.857783</td>\n",
       "      <td>-0.619878</td>\n",
       "      <td>...</td>\n",
       "      <td>-1.362848</td>\n",
       "      <td>NaN</td>\n",
       "      <td>NaN</td>\n",
       "      <td>NaN</td>\n",
       "      <td>2.375002</td>\n",
       "      <td>0.0</td>\n",
       "      <td>0.0</td>\n",
       "      <td>0.000011</td>\n",
       "      <td>0.618101</td>\n",
       "      <td>0.526248</td>\n",
       "    </tr>\n",
       "    <tr>\n",
       "      <td>12500</td>\n",
       "      <td>NaN</td>\n",
       "      <td>0.808736</td>\n",
       "      <td>-0.278272</td>\n",
       "      <td>-0.589588</td>\n",
       "      <td>NaN</td>\n",
       "      <td>NaN</td>\n",
       "      <td>NaN</td>\n",
       "      <td>-0.244450</td>\n",
       "      <td>-0.186257</td>\n",
       "      <td>-0.501602</td>\n",
       "      <td>...</td>\n",
       "      <td>-1.719205</td>\n",
       "      <td>1.164897</td>\n",
       "      <td>0.859999</td>\n",
       "      <td>-0.655625</td>\n",
       "      <td>0.640567</td>\n",
       "      <td>1.0</td>\n",
       "      <td>0.0</td>\n",
       "      <td>0.000010</td>\n",
       "      <td>0.009373</td>\n",
       "      <td>0.015028</td>\n",
       "    </tr>\n",
       "    <tr>\n",
       "      <td>12501</td>\n",
       "      <td>-0.191898</td>\n",
       "      <td>0.236516</td>\n",
       "      <td>-0.120364</td>\n",
       "      <td>-0.170974</td>\n",
       "      <td>NaN</td>\n",
       "      <td>NaN</td>\n",
       "      <td>NaN</td>\n",
       "      <td>1.005302</td>\n",
       "      <td>-0.523299</td>\n",
       "      <td>-0.455101</td>\n",
       "      <td>...</td>\n",
       "      <td>0.707469</td>\n",
       "      <td>1.235403</td>\n",
       "      <td>0.141627</td>\n",
       "      <td>0.008510</td>\n",
       "      <td>-0.233927</td>\n",
       "      <td>1.0</td>\n",
       "      <td>0.0</td>\n",
       "      <td>0.000008</td>\n",
       "      <td>0.715664</td>\n",
       "      <td>0.659024</td>\n",
       "    </tr>\n",
       "    <tr>\n",
       "      <td>12502</td>\n",
       "      <td>0.144797</td>\n",
       "      <td>0.415882</td>\n",
       "      <td>0.558190</td>\n",
       "      <td>1.714492</td>\n",
       "      <td>-0.774348</td>\n",
       "      <td>-0.664164</td>\n",
       "      <td>0.426095</td>\n",
       "      <td>-0.092695</td>\n",
       "      <td>1.137309</td>\n",
       "      <td>1.712603</td>\n",
       "      <td>...</td>\n",
       "      <td>-0.935609</td>\n",
       "      <td>-1.108203</td>\n",
       "      <td>1.045564</td>\n",
       "      <td>0.535531</td>\n",
       "      <td>-0.141553</td>\n",
       "      <td>2.0</td>\n",
       "      <td>0.0</td>\n",
       "      <td>0.000005</td>\n",
       "      <td>0.067865</td>\n",
       "      <td>0.082843</td>\n",
       "    </tr>\n",
       "  </tbody>\n",
       "</table>\n",
       "<p>12503 rows × 34 columns</p>\n",
       "</div>"
      ],
      "text/plain": [
       "       DER_mass_MMC  DER_mass_transverse_met_lep  DER_mass_vis  DER_pt_h  \\\n",
       "0          0.013862                     2.837014      0.483991  0.266223   \n",
       "1               NaN                     1.315227      0.097352 -0.899206   \n",
       "2          1.321435                     2.208245      0.731623 -0.413987   \n",
       "3         -0.056456                    -1.142033      0.183255 -0.899206   \n",
       "4               NaN                     1.517784     -0.338720 -0.614236   \n",
       "...             ...                          ...           ...       ...   \n",
       "12498     -0.635021                    -0.954108     -0.424722 -0.189946   \n",
       "12499           NaN                     2.555028      0.027885 -0.300730   \n",
       "12500           NaN                     0.808736     -0.278272 -0.589588   \n",
       "12501     -0.191898                     0.236516     -0.120364 -0.170974   \n",
       "12502      0.144797                     0.415882      0.558190  1.714492   \n",
       "\n",
       "       DER_deltaeta_jet_jet  DER_mass_jet_jet  DER_prodeta_jet_jet  \\\n",
       "0                 -0.439799         -0.739666             0.301150   \n",
       "1                       NaN               NaN                  NaN   \n",
       "2                       NaN               NaN                  NaN   \n",
       "3                       NaN               NaN                  NaN   \n",
       "4                       NaN               NaN                  NaN   \n",
       "...                     ...               ...                  ...   \n",
       "12498                   NaN               NaN                  NaN   \n",
       "12499                   NaN               NaN                  NaN   \n",
       "12500                   NaN               NaN                  NaN   \n",
       "12501                   NaN               NaN                  NaN   \n",
       "12502             -0.774348         -0.664164             0.426095   \n",
       "\n",
       "       DER_deltar_tau_lep  DER_pt_tot  DER_sum_pt  ...  PRI_met_py  \\\n",
       "0               -0.334993   -0.710703    0.657493  ...   -0.065411   \n",
       "1                0.121549   -0.809018   -0.759115  ...   -0.748405   \n",
       "2                1.150681    0.542354   -0.544210  ...   -1.258428   \n",
       "3                1.345796   -0.809018   -0.786288  ...   -0.084634   \n",
       "4               -0.132227   -0.015355   -0.676546  ...   -1.185406   \n",
       "...                   ...         ...         ...  ...         ...   \n",
       "12498            0.101144   -0.641277   -0.326538  ...    0.181120   \n",
       "12499           -0.837445    0.857783   -0.619878  ...   -1.362848   \n",
       "12500           -0.244450   -0.186257   -0.501602  ...   -1.719205   \n",
       "12501            1.005302   -0.523299   -0.455101  ...    0.707469   \n",
       "12502           -0.092695    1.137309    1.712603  ...   -0.935609   \n",
       "\n",
       "       PRI_jet_leading_px  PRI_jet_leading_py  PRI_jet_leading_pz  PRI_met_pt  \\\n",
       "0                0.224752            0.130881           -0.144154    0.047799   \n",
       "1                     NaN                 NaN                 NaN    0.277189   \n",
       "2                     NaN                 NaN                 NaN    0.659547   \n",
       "3                     NaN                 NaN                 NaN   -1.069334   \n",
       "4                     NaN                 NaN                 NaN    0.319367   \n",
       "...                   ...                 ...                 ...         ...   \n",
       "12498            0.130592            0.318401           -2.767573   -1.093452   \n",
       "12499                 NaN                 NaN                 NaN    2.375002   \n",
       "12500            1.164897            0.859999           -0.655625    0.640567   \n",
       "12501            1.235403            0.141627            0.008510   -0.233927   \n",
       "12502           -1.108203            1.045564            0.535531   -0.141553   \n",
       "\n",
       "       PRI_jet_num  gen_target  gen_weight      pred    pred_n  \n",
       "0              2.0         0.0    0.000011  0.284102  0.175932  \n",
       "1              0.0         0.0    0.000029  0.005186  0.003996  \n",
       "2              0.0         0.0    0.000013  0.071341  0.011893  \n",
       "3              0.0         1.0    0.000054  0.950550  0.940631  \n",
       "4              0.0         0.0    0.000025  0.010647  0.005195  \n",
       "...            ...         ...         ...       ...       ...  \n",
       "12498          1.0         0.0    0.000011  0.796656  0.651094  \n",
       "12499          0.0         0.0    0.000011  0.618101  0.526248  \n",
       "12500          1.0         0.0    0.000010  0.009373  0.015028  \n",
       "12501          1.0         0.0    0.000008  0.715664  0.659024  \n",
       "12502          2.0         0.0    0.000005  0.067865  0.082843  \n",
       "\n",
       "[12503 rows x 34 columns]"
      ]
     },
     "execution_count": 124,
     "metadata": {},
     "output_type": "execute_result"
    }
   ],
   "source": [
    "test_0_df"
   ]
  },
  {
   "cell_type": "markdown",
   "metadata": {},
   "source": [
    "### Save examples"
   ]
  },
  {
   "cell_type": "code",
   "execution_count": 125,
   "metadata": {},
   "outputs": [],
   "source": [
    "test_0_df[cont_feats] = train_1_fy.input_pipe.inverse_transform(test_0_df[cont_feats])\n",
    "test_1_df[cont_feats] = train_0_fy.input_pipe.inverse_transform(test_1_df[cont_feats])"
   ]
  },
  {
   "cell_type": "code",
   "execution_count": 126,
   "metadata": {},
   "outputs": [
    {
     "data": {
      "text/html": [
       "<div>\n",
       "<style scoped>\n",
       "    .dataframe tbody tr th:only-of-type {\n",
       "        vertical-align: middle;\n",
       "    }\n",
       "\n",
       "    .dataframe tbody tr th {\n",
       "        vertical-align: top;\n",
       "    }\n",
       "\n",
       "    .dataframe thead th {\n",
       "        text-align: right;\n",
       "    }\n",
       "</style>\n",
       "<table border=\"1\" class=\"dataframe\">\n",
       "  <thead>\n",
       "    <tr style=\"text-align: right;\">\n",
       "      <th></th>\n",
       "      <th>DER_mass_MMC</th>\n",
       "      <th>DER_mass_transverse_met_lep</th>\n",
       "      <th>DER_mass_vis</th>\n",
       "      <th>DER_pt_h</th>\n",
       "      <th>DER_deltaeta_jet_jet</th>\n",
       "      <th>DER_mass_jet_jet</th>\n",
       "      <th>DER_prodeta_jet_jet</th>\n",
       "      <th>DER_deltar_tau_lep</th>\n",
       "      <th>DER_pt_tot</th>\n",
       "      <th>DER_sum_pt</th>\n",
       "      <th>...</th>\n",
       "      <th>PRI_met_py</th>\n",
       "      <th>PRI_jet_leading_px</th>\n",
       "      <th>PRI_jet_leading_py</th>\n",
       "      <th>PRI_jet_leading_pz</th>\n",
       "      <th>PRI_met_pt</th>\n",
       "      <th>PRI_jet_num</th>\n",
       "      <th>gen_target</th>\n",
       "      <th>gen_weight</th>\n",
       "      <th>pred</th>\n",
       "      <th>pred_n</th>\n",
       "    </tr>\n",
       "  </thead>\n",
       "  <tbody>\n",
       "    <tr>\n",
       "      <td>0</td>\n",
       "      <td>122.546997</td>\n",
       "      <td>149.662994</td>\n",
       "      <td>100.791000</td>\n",
       "      <td>75.220001</td>\n",
       "      <td>1.639</td>\n",
       "      <td>77.918991</td>\n",
       "      <td>0.260</td>\n",
       "      <td>2.110</td>\n",
       "      <td>2.546999</td>\n",
       "      <td>235.188995</td>\n",
       "      <td>...</td>\n",
       "      <td>-3.017397</td>\n",
       "      <td>-36.826267</td>\n",
       "      <td>-22.659153</td>\n",
       "      <td>6.335347</td>\n",
       "      <td>43.393002</td>\n",
       "      <td>2.0</td>\n",
       "      <td>0.0</td>\n",
       "      <td>0.000011</td>\n",
       "      <td>0.284102</td>\n",
       "      <td>0.175932</td>\n",
       "    </tr>\n",
       "    <tr>\n",
       "      <td>1</td>\n",
       "      <td>NaN</td>\n",
       "      <td>95.788002</td>\n",
       "      <td>85.100998</td>\n",
       "      <td>0.277001</td>\n",
       "      <td>NaN</td>\n",
       "      <td>NaN</td>\n",
       "      <td>NaN</td>\n",
       "      <td>2.468</td>\n",
       "      <td>0.277001</td>\n",
       "      <td>70.348000</td>\n",
       "      <td>...</td>\n",
       "      <td>-22.765770</td>\n",
       "      <td>NaN</td>\n",
       "      <td>NaN</td>\n",
       "      <td>NaN</td>\n",
       "      <td>51.116001</td>\n",
       "      <td>0.0</td>\n",
       "      <td>0.0</td>\n",
       "      <td>0.000029</td>\n",
       "      <td>0.005186</td>\n",
       "      <td>0.003996</td>\n",
       "    </tr>\n",
       "    <tr>\n",
       "      <td>2</td>\n",
       "      <td>196.815994</td>\n",
       "      <td>127.403008</td>\n",
       "      <td>110.839996</td>\n",
       "      <td>31.478996</td>\n",
       "      <td>NaN</td>\n",
       "      <td>NaN</td>\n",
       "      <td>NaN</td>\n",
       "      <td>3.275</td>\n",
       "      <td>31.479000</td>\n",
       "      <td>95.355003</td>\n",
       "      <td>...</td>\n",
       "      <td>-37.512783</td>\n",
       "      <td>NaN</td>\n",
       "      <td>NaN</td>\n",
       "      <td>NaN</td>\n",
       "      <td>63.988998</td>\n",
       "      <td>0.0</td>\n",
       "      <td>0.0</td>\n",
       "      <td>0.000013</td>\n",
       "      <td>0.071341</td>\n",
       "      <td>0.011893</td>\n",
       "    </tr>\n",
       "    <tr>\n",
       "      <td>3</td>\n",
       "      <td>118.553001</td>\n",
       "      <td>8.794998</td>\n",
       "      <td>88.586998</td>\n",
       "      <td>0.277001</td>\n",
       "      <td>NaN</td>\n",
       "      <td>NaN</td>\n",
       "      <td>NaN</td>\n",
       "      <td>3.428</td>\n",
       "      <td>0.277001</td>\n",
       "      <td>67.185997</td>\n",
       "      <td>...</td>\n",
       "      <td>-3.573227</td>\n",
       "      <td>NaN</td>\n",
       "      <td>NaN</td>\n",
       "      <td>NaN</td>\n",
       "      <td>5.781998</td>\n",
       "      <td>0.0</td>\n",
       "      <td>1.0</td>\n",
       "      <td>0.000054</td>\n",
       "      <td>0.950550</td>\n",
       "      <td>0.940631</td>\n",
       "    </tr>\n",
       "    <tr>\n",
       "      <td>4</td>\n",
       "      <td>NaN</td>\n",
       "      <td>102.959000</td>\n",
       "      <td>67.404999</td>\n",
       "      <td>18.602001</td>\n",
       "      <td>NaN</td>\n",
       "      <td>NaN</td>\n",
       "      <td>NaN</td>\n",
       "      <td>2.269</td>\n",
       "      <td>18.601999</td>\n",
       "      <td>79.955994</td>\n",
       "      <td>...</td>\n",
       "      <td>-35.401386</td>\n",
       "      <td>NaN</td>\n",
       "      <td>NaN</td>\n",
       "      <td>NaN</td>\n",
       "      <td>52.535999</td>\n",
       "      <td>0.0</td>\n",
       "      <td>0.0</td>\n",
       "      <td>0.000025</td>\n",
       "      <td>0.010647</td>\n",
       "      <td>0.005195</td>\n",
       "    </tr>\n",
       "    <tr>\n",
       "      <td>...</td>\n",
       "      <td>...</td>\n",
       "      <td>...</td>\n",
       "      <td>...</td>\n",
       "      <td>...</td>\n",
       "      <td>...</td>\n",
       "      <td>...</td>\n",
       "      <td>...</td>\n",
       "      <td>...</td>\n",
       "      <td>...</td>\n",
       "      <td>...</td>\n",
       "      <td>...</td>\n",
       "      <td>...</td>\n",
       "      <td>...</td>\n",
       "      <td>...</td>\n",
       "      <td>...</td>\n",
       "      <td>...</td>\n",
       "      <td>...</td>\n",
       "      <td>...</td>\n",
       "      <td>...</td>\n",
       "      <td>...</td>\n",
       "      <td>...</td>\n",
       "    </tr>\n",
       "    <tr>\n",
       "      <td>12498</td>\n",
       "      <td>85.691002</td>\n",
       "      <td>15.447998</td>\n",
       "      <td>63.915001</td>\n",
       "      <td>45.886002</td>\n",
       "      <td>NaN</td>\n",
       "      <td>NaN</td>\n",
       "      <td>NaN</td>\n",
       "      <td>2.452</td>\n",
       "      <td>4.149999</td>\n",
       "      <td>120.683998</td>\n",
       "      <td>...</td>\n",
       "      <td>4.110887</td>\n",
       "      <td>-43.488167</td>\n",
       "      <td>-13.576105</td>\n",
       "      <td>-1088.331665</td>\n",
       "      <td>4.970002</td>\n",
       "      <td>1.0</td>\n",
       "      <td>0.0</td>\n",
       "      <td>0.000011</td>\n",
       "      <td>0.796656</td>\n",
       "      <td>0.651094</td>\n",
       "    </tr>\n",
       "    <tr>\n",
       "      <td>12499</td>\n",
       "      <td>NaN</td>\n",
       "      <td>139.679993</td>\n",
       "      <td>82.281998</td>\n",
       "      <td>38.762001</td>\n",
       "      <td>NaN</td>\n",
       "      <td>NaN</td>\n",
       "      <td>NaN</td>\n",
       "      <td>1.716</td>\n",
       "      <td>38.762001</td>\n",
       "      <td>86.549995</td>\n",
       "      <td>...</td>\n",
       "      <td>-40.532024</td>\n",
       "      <td>NaN</td>\n",
       "      <td>NaN</td>\n",
       "      <td>NaN</td>\n",
       "      <td>121.744003</td>\n",
       "      <td>0.0</td>\n",
       "      <td>0.0</td>\n",
       "      <td>0.000011</td>\n",
       "      <td>0.618101</td>\n",
       "      <td>0.526248</td>\n",
       "    </tr>\n",
       "    <tr>\n",
       "      <td>12500</td>\n",
       "      <td>NaN</td>\n",
       "      <td>77.857002</td>\n",
       "      <td>69.858002</td>\n",
       "      <td>20.187000</td>\n",
       "      <td>NaN</td>\n",
       "      <td>NaN</td>\n",
       "      <td>NaN</td>\n",
       "      <td>2.181</td>\n",
       "      <td>14.656000</td>\n",
       "      <td>100.313004</td>\n",
       "      <td>...</td>\n",
       "      <td>-50.835873</td>\n",
       "      <td>29.689409</td>\n",
       "      <td>12.657601</td>\n",
       "      <td>-207.084671</td>\n",
       "      <td>63.349998</td>\n",
       "      <td>1.0</td>\n",
       "      <td>0.0</td>\n",
       "      <td>0.000010</td>\n",
       "      <td>0.009373</td>\n",
       "      <td>0.015028</td>\n",
       "    </tr>\n",
       "    <tr>\n",
       "      <td>12501</td>\n",
       "      <td>110.860001</td>\n",
       "      <td>57.598999</td>\n",
       "      <td>76.265999</td>\n",
       "      <td>47.105999</td>\n",
       "      <td>NaN</td>\n",
       "      <td>NaN</td>\n",
       "      <td>NaN</td>\n",
       "      <td>3.161</td>\n",
       "      <td>6.874001</td>\n",
       "      <td>105.723999</td>\n",
       "      <td>...</td>\n",
       "      <td>19.329977</td>\n",
       "      <td>34.677727</td>\n",
       "      <td>-22.138649</td>\n",
       "      <td>70.037163</td>\n",
       "      <td>33.908001</td>\n",
       "      <td>1.0</td>\n",
       "      <td>0.0</td>\n",
       "      <td>0.000008</td>\n",
       "      <td>0.715664</td>\n",
       "      <td>0.659024</td>\n",
       "    </tr>\n",
       "    <tr>\n",
       "      <td>12502</td>\n",
       "      <td>129.983994</td>\n",
       "      <td>63.949001</td>\n",
       "      <td>103.802002</td>\n",
       "      <td>168.350998</td>\n",
       "      <td>1.057</td>\n",
       "      <td>108.017990</td>\n",
       "      <td>0.708</td>\n",
       "      <td>2.300</td>\n",
       "      <td>45.216000</td>\n",
       "      <td>357.964996</td>\n",
       "      <td>...</td>\n",
       "      <td>-28.178673</td>\n",
       "      <td>-131.133484</td>\n",
       "      <td>21.645920</td>\n",
       "      <td>289.945709</td>\n",
       "      <td>37.018002</td>\n",
       "      <td>2.0</td>\n",
       "      <td>0.0</td>\n",
       "      <td>0.000005</td>\n",
       "      <td>0.067865</td>\n",
       "      <td>0.082843</td>\n",
       "    </tr>\n",
       "  </tbody>\n",
       "</table>\n",
       "<p>12503 rows × 34 columns</p>\n",
       "</div>"
      ],
      "text/plain": [
       "       DER_mass_MMC  DER_mass_transverse_met_lep  DER_mass_vis    DER_pt_h  \\\n",
       "0        122.546997                   149.662994    100.791000   75.220001   \n",
       "1               NaN                    95.788002     85.100998    0.277001   \n",
       "2        196.815994                   127.403008    110.839996   31.478996   \n",
       "3        118.553001                     8.794998     88.586998    0.277001   \n",
       "4               NaN                   102.959000     67.404999   18.602001   \n",
       "...             ...                          ...           ...         ...   \n",
       "12498     85.691002                    15.447998     63.915001   45.886002   \n",
       "12499           NaN                   139.679993     82.281998   38.762001   \n",
       "12500           NaN                    77.857002     69.858002   20.187000   \n",
       "12501    110.860001                    57.598999     76.265999   47.105999   \n",
       "12502    129.983994                    63.949001    103.802002  168.350998   \n",
       "\n",
       "       DER_deltaeta_jet_jet  DER_mass_jet_jet  DER_prodeta_jet_jet  \\\n",
       "0                     1.639         77.918991                0.260   \n",
       "1                       NaN               NaN                  NaN   \n",
       "2                       NaN               NaN                  NaN   \n",
       "3                       NaN               NaN                  NaN   \n",
       "4                       NaN               NaN                  NaN   \n",
       "...                     ...               ...                  ...   \n",
       "12498                   NaN               NaN                  NaN   \n",
       "12499                   NaN               NaN                  NaN   \n",
       "12500                   NaN               NaN                  NaN   \n",
       "12501                   NaN               NaN                  NaN   \n",
       "12502                 1.057        108.017990                0.708   \n",
       "\n",
       "       DER_deltar_tau_lep  DER_pt_tot  DER_sum_pt  ...  PRI_met_py  \\\n",
       "0                   2.110    2.546999  235.188995  ...   -3.017397   \n",
       "1                   2.468    0.277001   70.348000  ...  -22.765770   \n",
       "2                   3.275   31.479000   95.355003  ...  -37.512783   \n",
       "3                   3.428    0.277001   67.185997  ...   -3.573227   \n",
       "4                   2.269   18.601999   79.955994  ...  -35.401386   \n",
       "...                   ...         ...         ...  ...         ...   \n",
       "12498               2.452    4.149999  120.683998  ...    4.110887   \n",
       "12499               1.716   38.762001   86.549995  ...  -40.532024   \n",
       "12500               2.181   14.656000  100.313004  ...  -50.835873   \n",
       "12501               3.161    6.874001  105.723999  ...   19.329977   \n",
       "12502               2.300   45.216000  357.964996  ...  -28.178673   \n",
       "\n",
       "       PRI_jet_leading_px  PRI_jet_leading_py  PRI_jet_leading_pz  PRI_met_pt  \\\n",
       "0              -36.826267          -22.659153            6.335347   43.393002   \n",
       "1                     NaN                 NaN                 NaN   51.116001   \n",
       "2                     NaN                 NaN                 NaN   63.988998   \n",
       "3                     NaN                 NaN                 NaN    5.781998   \n",
       "4                     NaN                 NaN                 NaN   52.535999   \n",
       "...                   ...                 ...                 ...         ...   \n",
       "12498          -43.488167          -13.576105        -1088.331665    4.970002   \n",
       "12499                 NaN                 NaN                 NaN  121.744003   \n",
       "12500           29.689409           12.657601         -207.084671   63.349998   \n",
       "12501           34.677727          -22.138649           70.037163   33.908001   \n",
       "12502         -131.133484           21.645920          289.945709   37.018002   \n",
       "\n",
       "       PRI_jet_num  gen_target  gen_weight      pred    pred_n  \n",
       "0              2.0         0.0    0.000011  0.284102  0.175932  \n",
       "1              0.0         0.0    0.000029  0.005186  0.003996  \n",
       "2              0.0         0.0    0.000013  0.071341  0.011893  \n",
       "3              0.0         1.0    0.000054  0.950550  0.940631  \n",
       "4              0.0         0.0    0.000025  0.010647  0.005195  \n",
       "...            ...         ...         ...       ...       ...  \n",
       "12498          1.0         0.0    0.000011  0.796656  0.651094  \n",
       "12499          0.0         0.0    0.000011  0.618101  0.526248  \n",
       "12500          1.0         0.0    0.000010  0.009373  0.015028  \n",
       "12501          1.0         0.0    0.000008  0.715664  0.659024  \n",
       "12502          2.0         0.0    0.000005  0.067865  0.082843  \n",
       "\n",
       "[12503 rows x 34 columns]"
      ]
     },
     "execution_count": 126,
     "metadata": {},
     "output_type": "execute_result"
    }
   ],
   "source": [
    "test_0_df"
   ]
  },
  {
   "cell_type": "code",
   "execution_count": 128,
   "metadata": {},
   "outputs": [],
   "source": [
    "test_0_df[train_feats+['pred']].to_csv(PATH/'example_0.csv', index=False)\n",
    "test_1_df[train_feats+['pred']].to_csv(PATH/'example_1.csv', index=False)"
   ]
  },
  {
   "cell_type": "markdown",
   "metadata": {},
   "source": [
    "## Export necessary files"
   ]
  },
  {
   "cell_type": "markdown",
   "metadata": {},
   "source": [
    "### Ensembles"
   ]
  },
  {
   "cell_type": "code",
   "execution_count": 146,
   "metadata": {},
   "outputs": [],
   "source": [
    "def write_ensemble_file(ensemble:Ensemble, basic_name:str, savename:Union[str,Path]) -> None:\n",
    "    with open(savename, 'w') as fout:\n",
    "        for i, w in enumerate(ensemble.weights): fout.write(f'{basic_name}_{i} {w}\\n')"
   ]
  },
  {
   "cell_type": "code",
   "execution_count": 148,
   "metadata": {},
   "outputs": [],
   "source": [
    "write_ensemble_file(ensemble_0, 'example_TF', 'models/ensemble_0/model_weights.txt')\n",
    "write_ensemble_file(ensemble_1, 'example_TF', 'models/ensemble_1/model_weights.txt')"
   ]
  },
  {
   "cell_type": "markdown",
   "metadata": {},
   "source": [
    "### Preprocessing"
   ]
  },
  {
   "cell_type": "code",
   "execution_count": 166,
   "metadata": {},
   "outputs": [],
   "source": [
    "def write_preproc_file(scalar:StandardScaler, savename:Union[str,Path]) -> None:\n",
    "    with open(savename, 'w') as fout:\n",
    "        for m,s in zip(scalar.mean_,scalar.scale_): fout.write(f'{m} {s}\\n')"
   ]
  },
  {
   "cell_type": "code",
   "execution_count": 169,
   "metadata": {},
   "outputs": [],
   "source": [
    "write_preproc_file(train_0_fy.input_pipe['norm_in'], 'models/ensemble_0/preproc.txt')\n",
    "write_preproc_file(train_1_fy.input_pipe['norm_in'], 'models/ensemble_1/preproc.txt')"
   ]
  },
  {
   "cell_type": "code",
   "execution_count": null,
   "metadata": {},
   "outputs": [],
   "source": []
  }
 ],
 "metadata": {
  "kernelspec": {
   "display_name": "Python 3",
   "language": "python",
   "name": "python3"
  },
  "language_info": {
   "codemirror_mode": {
    "name": "ipython",
    "version": 3
   },
   "file_extension": ".py",
   "mimetype": "text/x-python",
   "name": "python",
   "nbconvert_exporter": "python",
   "pygments_lexer": "ipython3",
   "version": "3.6.10"
  },
  "toc": {
   "base_numbering": 1,
   "nav_menu": {},
   "number_sections": true,
   "sideBar": true,
   "skip_h1_title": false,
   "title_cell": "Table of Contents",
   "title_sidebar": "Contents",
   "toc_cell": false,
   "toc_position": {},
   "toc_section_display": true,
   "toc_window_display": false
  }
 },
 "nbformat": 4,
 "nbformat_minor": 2
}
